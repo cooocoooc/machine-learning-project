{
 "cells": [
  {
   "cell_type": "markdown",
   "id": "b56c6ba1-07c6-42ef-88e6-2ced17dc0337",
   "metadata": {},
   "source": [
    "# LaTex Learning Note"
   ]
  },
  {
   "cell_type": "markdown",
   "id": "4e16dc41-f8f9-4c52-a12a-b5ba7efe1458",
   "metadata": {},
   "source": [
    "## Use Latex in jupyter notebook, including:\n",
    "\n",
    "i. math formulate\n",
    "\n",
    "ii. symbols\n",
    "\n",
    "iii. formatting\n"
   ]
  },
  {
   "cell_type": "markdown",
   "id": "c02fa72a-1444-40b9-8355-2f5bf400febc",
   "metadata": {},
   "source": [
    "### Use markdown cells\n",
    "\n",
    "i. inline math, using '$'-pair\n",
    "\n",
    "e.g. sigmoid - $\\sigma(x)$  \n",
    "\n",
    "ii. centered math, using '$$'-pair\n",
    "\n",
    "e.g. activation function\n",
    "\n",
    "\n",
    "$$ logistic \\quad function = sigmoid \\quad function $$\n",
    "$$\\sigma{(x)} = \\frac{1}{1+e^{-x}}$$\n",
    "\n",
    "iii. new line and align\n",
    "\n",
    "using '&=' align at the equals sign and '\\\\\\\\\\\\'=double backslash or '\\cr' at each line ends\n",
    "\n",
    "e.g. derivative of sigmoid function\n",
    "\n",
    "\\begin{align}\n",
    "\\sigma'(x) &= \\frac{d}{dx}\\left(\\frac{1}{1+e^{-x}}\\right) \\\\\n",
    "&=\\frac{e^{-x}}{(1+e^{-x})^2} \\cr\n",
    "&=\\sigma(x)(1-\\sigma(x))\n",
    "\\end{align}"
   ]
  },
  {
   "cell_type": "markdown",
   "id": "adcd9ae5-881e-442d-8c04-76b7d9428dbd",
   "metadata": {},
   "source": [
    "### Use python - math vs latex based on IPython library\n",
    "\n",
    "i. math function: \n",
    "- maily for pure equations or block-style math\n",
    "- space between words will be removed\n",
    "- not need '\\$$' or '\\$' = automatic added\n",
    "\n",
    "ii. latex function \n",
    "- full latex content, including text and math\n",
    "  = rich latex formatting, such as math, table or mixed text and math\n",
    "- must use '\\$$' or '\\$'"
   ]
  },
  {
   "cell_type": "code",
   "execution_count": 3,
   "id": "fbe2c1e6-1fde-4ef4-b79f-c33c6341593f",
   "metadata": {},
   "outputs": [
    {
     "name": "stdout",
     "output_type": "stream",
     "text": [
      "Requirement already satisfied: ipython in /opt/anaconda3/lib/python3.12/site-packages (8.25.0)\n",
      "Requirement already satisfied: decorator in /opt/anaconda3/lib/python3.12/site-packages (from ipython) (5.1.1)\n",
      "Requirement already satisfied: jedi>=0.16 in /opt/anaconda3/lib/python3.12/site-packages (from ipython) (0.18.1)\n",
      "Requirement already satisfied: matplotlib-inline in /opt/anaconda3/lib/python3.12/site-packages (from ipython) (0.1.6)\n",
      "Requirement already satisfied: prompt-toolkit<3.1.0,>=3.0.41 in /opt/anaconda3/lib/python3.12/site-packages (from ipython) (3.0.43)\n",
      "Requirement already satisfied: pygments>=2.4.0 in /opt/anaconda3/lib/python3.12/site-packages (from ipython) (2.15.1)\n",
      "Requirement already satisfied: stack-data in /opt/anaconda3/lib/python3.12/site-packages (from ipython) (0.2.0)\n",
      "Requirement already satisfied: traitlets>=5.13.0 in /opt/anaconda3/lib/python3.12/site-packages (from ipython) (5.14.3)\n",
      "Requirement already satisfied: pexpect>4.3 in /opt/anaconda3/lib/python3.12/site-packages (from ipython) (4.8.0)\n",
      "Requirement already satisfied: parso<0.9.0,>=0.8.0 in /opt/anaconda3/lib/python3.12/site-packages (from jedi>=0.16->ipython) (0.8.3)\n",
      "Requirement already satisfied: ptyprocess>=0.5 in /opt/anaconda3/lib/python3.12/site-packages (from pexpect>4.3->ipython) (0.7.0)\n",
      "Requirement already satisfied: wcwidth in /opt/anaconda3/lib/python3.12/site-packages (from prompt-toolkit<3.1.0,>=3.0.41->ipython) (0.2.5)\n",
      "Requirement already satisfied: executing in /opt/anaconda3/lib/python3.12/site-packages (from stack-data->ipython) (0.8.3)\n",
      "Requirement already satisfied: asttokens in /opt/anaconda3/lib/python3.12/site-packages (from stack-data->ipython) (2.0.5)\n",
      "Requirement already satisfied: pure-eval in /opt/anaconda3/lib/python3.12/site-packages (from stack-data->ipython) (0.2.2)\n",
      "Requirement already satisfied: six in /opt/anaconda3/lib/python3.12/site-packages (from asttokens->stack-data->ipython) (1.16.0)\n",
      "Note: you may need to restart the kernel to use updated packages.\n"
     ]
    }
   ],
   "source": [
    "pip install ipython"
   ]
  },
  {
   "cell_type": "code",
   "execution_count": 398,
   "id": "954811c4-fa42-4adf-9bf1-9def8a2b9cef",
   "metadata": {},
   "outputs": [
    {
     "data": {
      "text/latex": [
       "$\\displaystyle \\text{\\\\\\\\}space\\text{\\\\\\\\}  distance \n",
       "\\qquad -2em \n",
       "\\quad -1em \n",
       "\\,-thin-1/6em \n",
       "\\:-medium-2/9em \n",
       "\\;-thick-5/18em : $"
      ],
      "text/plain": [
       "<IPython.core.display.Math object>"
      ]
     },
     "metadata": {},
     "output_type": "display_data"
    },
    {
     "data": {
      "text/latex": [
       "$\\displaystyle \\sigma(x)=\\frac{1}{1+e^{-x}}$"
      ],
      "text/plain": [
       "<IPython.core.display.Math object>"
      ]
     },
     "metadata": {},
     "output_type": "display_data"
    },
    {
     "data": {
      "text/latex": [
       "this is inline math: $\\sigma{(x)} = \\frac{1}{1+e^{-x}}$"
      ],
      "text/plain": [
       "<IPython.core.display.Latex object>"
      ]
     },
     "metadata": {},
     "output_type": "display_data"
    },
    {
     "data": {
      "text/latex": [
       "this is double backslash: $\\texttt{\\\\\\\\}$"
      ],
      "text/plain": [
       "<IPython.core.display.Latex object>"
      ]
     },
     "metadata": {},
     "output_type": "display_data"
    }
   ],
   "source": [
    "from IPython.display import display, Math, Latex\n",
    "'''\n",
    "use 'r' prefix to keep '\\' backslash character intact and safe in a raw string\n",
    "this is because '\\' is escape charecter in python, such as '\\n' = newline\n",
    "without 'r', python may misinterpret the backslash in latex\n",
    "'''\n",
    "display(Math(r\"\"\"\\text{\\\\\\\\}space\\text{\\\\\\\\}  distance \n",
    "\\qquad -2em \n",
    "\\quad -1em \n",
    "\\,-thin-1/6em \n",
    "\\:-medium-2/9em \n",
    "\\;-thick-5/18em : \"\"\"))\n",
    "display(Math(r\"\\sigma(x)=\\frac{1}{1+e^{-x}}\"))\n",
    "display(Latex(r\"this is inline math: $\\sigma{(x)} = \\frac{1}{1+e^{-x}}$\"))\n",
    "display(Latex(r\"this is double backslash: $\\texttt{\\\\\\\\}$\"))"
   ]
  },
  {
   "cell_type": "markdown",
   "id": "40df1265-bfa0-4b20-9847-56b484962ab7",
   "metadata": {},
   "source": [
    "### Display a table"
   ]
  },
  {
   "cell_type": "markdown",
   "id": "8da9ccf0-6a1f-48e6-a146-238abfd7a82e",
   "metadata": {},
   "source": [
    "\n",
    "\\begin{array}{c|c|c|c|c}\n",
    "\\hline\n",
    "\\text{Article} & \\text{Dataset} & \\text{Model} & \\text{Feature} & \\text{Accuracy rate} \\\\\n",
    "\\hline\n",
    "a & b & c & d & e \\\\\n",
    "\\hline\n",
    "\\end{array}\n"
   ]
  },
  {
   "cell_type": "raw",
   "id": "48318f7f-14d4-4cac-8964-d15e83f133e6",
   "metadata": {},
   "source": [
    "\\begin{tabular}\n",
    "\\end{tabular}"
   ]
  },
  {
   "cell_type": "markdown",
   "id": "e2e7019c-18c1-4e73-b350-ac2bc5976c74",
   "metadata": {},
   "source": [
    "### Display cases\n",
    "\n",
    "\\begin{cases}\n",
    "x=1 & \\text{if } a>b \\\\\n",
    "x=0 & \\text{otherwise}\n",
    "\\end{cases}"
   ]
  },
  {
   "cell_type": "markdown",
   "id": "3f629aa7-abe9-4163-90c8-99e2385a9f5d",
   "metadata": {},
   "source": [
    "### Display align\n",
    "- using alignment marker \"&\" aligns the content horizontally\n",
    "\n",
    "  = the character after the placement of \"&\" will be aligned\n",
    "\n",
    "  e.g. \"&=\" = align based on \"=\"  \n",
    "\n",
    "\\begin{align}\n",
    "a + b &= ab \\\\ ad + be &= adbe\n",
    "\\end{align}\n"
   ]
  },
  {
   "cell_type": "markdown",
   "id": "7519ff1e-c8d1-4820-bd49-d30aea749333",
   "metadata": {},
   "source": [
    "## Use Latex in overleaf, including\n",
    "\n",
    "True Latex titles, which only works in overleaf or .tex\n",
    "- e.g.1 \\documentclass,\\title{},\\maketitle,\\usepackage{}\n",
    "- e.g.2 \\section{}, \\subsection from Latex\n",
    "- e.g.3 custome latex font packages"
   ]
  },
  {
   "cell_type": "markdown",
   "id": "62b2b192-0e4f-4b8f-8511-1697c9ae1471",
   "metadata": {},
   "source": [
    "### Packages"
   ]
  },
  {
   "cell_type": "markdown",
   "id": "7e7d6ee8-bbb8-4cc4-bfd4-adaf87bef2a9",
   "metadata": {},
   "source": [
    "#### amsmath\n",
    "- developed by American Mathmatical Society\n",
    "- better for alignment,multiple equation support,matrices,cases\n",
    "- most function could be supported by jupyter notebook\n",
    "- examples:\n",
    "- align: multiple equations aligned at '\\&'\n",
    "\\begin{align}\n",
    "a + b + c + d&= abcd \\\\\n",
    "ac + bd&= dcba\n",
    "\\end{align}\n",
    "- gather: centered multiple equations\n",
    "\\begin{gather}\n",
    "a + b + c + d= abcd \\\\\n",
    "ac + bd = abcd\n",
    "\\end{gather}\n",
    "- multline:\n",
    "  for long single equation,1st-line = left-aligned;final-line = right-aligned;\n",
    "  otherwise, not work well; not use '&'\n",
    "\\begin{multline}\n",
    "a + b + c + d + e + f + g + h + i + j + k\\\\\n",
    "= abcdefghijk\\\\\n",
    "= abcdefghijk\\\\\n",
    "= abcdefghijk\\\\\n",
    "= lmnopqrst\n",
    "\\end{multline}\n",
    "- split: one equation,multiple steps,similar to align because of same alignment rules\n",
    "\\begin{split}\n",
    "a + b + c + d &= abcd\\\\\n",
    "&= bcda\\\\\n",
    "&= cdab\\\\\n",
    "&= dabc\\\\\n",
    "&= abcd\n",
    "\\end{split}\n",
    "\n",
    "- cases : piecewise-defined function\n",
    "\\begin{cases}\n",
    "a + b + c + d = a * 1000 + b * 100 + c * 10 + d &\\text{if a,b,c,d are numbers} \\\\\n",
    "a + b + c + d = abcd&\\text{otherwise}\n",
    "\\end{cases}\n",
    "\n",
    "- text: display text in math mode, examples in cases\n"
   ]
  },
  {
   "cell_type": "markdown",
   "id": "7e2b494e-08ee-4fdc-a6b3-175e39ffd012",
   "metadata": {},
   "source": [
    "#### booktabs\n",
    "- good for horizontal lines \n",
    "- not good for vertical lines\n",
    "\n",
    "\\begin{array}{|l|l|}\n",
    "\\hline\n",
    "\\text{horizontal line} & \\text{style} \\\\\n",
    "\\hline\n",
    "\\text{\\toprule} &  \\text{thick top line}\\\\\n",
    "\\hline\n",
    "\\text{\\midrule} &  \\text{medium line between header and content}\\\\\n",
    "\\hline\n",
    "\\text{\\bottomrule} &  \\text{thick bottm line}\\\\\n",
    "\\hline\n",
    "\\end{array}\n"
   ]
  },
  {
   "cell_type": "raw",
   "id": "0b35a935-0980-4853-a188-c7a75d8dbdf9",
   "metadata": {},
   "source": [
    "\\usepackage[table]{xcolor}\n",
    "\\usepackage{booktabs}\n",
    "\\begin{center}\n",
    "\\definecolor{headercolor}{RGB}{0,255,0}\n",
    "\\rowcolors{1}{blue!10}{white}\n",
    "\\begin{tabular}{|l\n",
    "|>{\\centering\\arraybackslash}m{3.5cm}\n",
    "|>{\\centering\\arraybackslash}m{6cm}cr}\n",
    "\\toprule\n",
    "\\rowcolor{headercolor}\n",
    "\\textbf{Article} & \\textbf{Model} & \\textbf{Feature} & \\textbf{dataset} & \\textbf{accuracy} \\\\ \n",
    "\\midrule\n",
    "$\\alpha$ & b & c & d & e\\\\\n",
    "\\bottomrule\n",
    "\\end{tabular}\n",
    "\\end{center}"
   ]
  },
  {
   "cell_type": "markdown",
   "id": "3c0ad458-fd01-4f92-99da-6db704baebdc",
   "metadata": {},
   "source": [
    "#### array\n",
    "- good for column customization\n",
    "- only use \"\\hline\" for holizontal line style"
   ]
  },
  {
   "cell_type": "raw",
   "id": "5d34e24f-5a39-4fcf-afa6-0b0b4ca37822",
   "metadata": {},
   "source": [
    "\\usepackage{array}\n",
    "\n",
    "\\begin{center}\n",
    "\n",
    "\\begin{tabular}{|l|c|c|c|r|}\n",
    "\\hline\n",
    "\\textbf{Article} & \\textbf{Model} & \\textbf{Feature} & \\textbf{dataset} & \\textbf{accuracy}\n",
    "\\hline\n",
    "a & b & c & d & e||\n",
    "\\hline\n",
    "\\end{tabular}\n",
    "\\end{center}"
   ]
  },
  {
   "cell_type": "code",
   "execution_count": null,
   "id": "187e5605-f08b-4588-9b7b-f4c7d82ef0bc",
   "metadata": {},
   "outputs": [],
   "source": []
  }
 ],
 "metadata": {
  "kernelspec": {
   "display_name": "Python 3 (ipykernel)",
   "language": "python",
   "name": "python3"
  },
  "language_info": {
   "codemirror_mode": {
    "name": "ipython",
    "version": 3
   },
   "file_extension": ".py",
   "mimetype": "text/x-python",
   "name": "python",
   "nbconvert_exporter": "python",
   "pygments_lexer": "ipython3",
   "version": "3.12.4"
  }
 },
 "nbformat": 4,
 "nbformat_minor": 5
}
