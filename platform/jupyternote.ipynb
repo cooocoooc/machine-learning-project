{
 "cells": [
  {
   "cell_type": "markdown",
   "id": "bd96fc92-324b-4c7f-a964-517b25ab2eb8",
   "metadata": {},
   "source": [
    "# Jupyter Note Learning"
   ]
  },
  {
   "cell_type": "markdown",
   "id": "101adcc5-e961-49f2-b5cf-0df2f3029b04",
   "metadata": {},
   "source": [
    "## jupyter cell"
   ]
  },
  {
   "cell_type": "markdown",
   "id": "53e176ef-5639-431b-ac69-d3c5e6f14d40",
   "metadata": {},
   "source": [
    "### jupyter markdown cell"
   ]
  },
  {
   "cell_type": "markdown",
   "id": "1c370062-9f75-4688-8539-7d74063dd8f0",
   "metadata": {},
   "source": [
    "#### cell magic"
   ]
  },
  {
   "cell_type": "markdown",
   "id": "b67ef544-b1d4-4fe3-9fe0-cccbc641884f",
   "metadata": {},
   "source": [
    "%%latex\n",
    "\n",
    "this cell will be rended as LaTex\n",
    "\n",
    "not all jupyter environment support by default\n",
    "\n",
    "if the latex not work using \"%%latex\", using IPython.display like below,\n",
    "\n",
    "more detais regarding latex link to [LaTex part](./latex.ipynb)"
   ]
  },
  {
   "cell_type": "code",
   "execution_count": 7,
   "id": "60a21019-5ae1-408d-be2d-96c92a740df1",
   "metadata": {},
   "outputs": [
    {
     "name": "stdout",
     "output_type": "stream",
     "text": [
      "Requirement already satisfied: ipython in /opt/anaconda3/lib/python3.12/site-packages (8.25.0)\n",
      "Requirement already satisfied: decorator in /opt/anaconda3/lib/python3.12/site-packages (from ipython) (5.1.1)\n",
      "Requirement already satisfied: jedi>=0.16 in /opt/anaconda3/lib/python3.12/site-packages (from ipython) (0.18.1)\n",
      "Requirement already satisfied: matplotlib-inline in /opt/anaconda3/lib/python3.12/site-packages (from ipython) (0.1.6)\n",
      "Requirement already satisfied: prompt-toolkit<3.1.0,>=3.0.41 in /opt/anaconda3/lib/python3.12/site-packages (from ipython) (3.0.43)\n",
      "Requirement already satisfied: pygments>=2.4.0 in /opt/anaconda3/lib/python3.12/site-packages (from ipython) (2.15.1)\n",
      "Requirement already satisfied: stack-data in /opt/anaconda3/lib/python3.12/site-packages (from ipython) (0.2.0)\n",
      "Requirement already satisfied: traitlets>=5.13.0 in /opt/anaconda3/lib/python3.12/site-packages (from ipython) (5.14.3)\n",
      "Requirement already satisfied: pexpect>4.3 in /opt/anaconda3/lib/python3.12/site-packages (from ipython) (4.8.0)\n",
      "Requirement already satisfied: parso<0.9.0,>=0.8.0 in /opt/anaconda3/lib/python3.12/site-packages (from jedi>=0.16->ipython) (0.8.3)\n",
      "Requirement already satisfied: ptyprocess>=0.5 in /opt/anaconda3/lib/python3.12/site-packages (from pexpect>4.3->ipython) (0.7.0)\n",
      "Requirement already satisfied: wcwidth in /opt/anaconda3/lib/python3.12/site-packages (from prompt-toolkit<3.1.0,>=3.0.41->ipython) (0.2.5)\n",
      "Requirement already satisfied: executing in /opt/anaconda3/lib/python3.12/site-packages (from stack-data->ipython) (0.8.3)\n",
      "Requirement already satisfied: asttokens in /opt/anaconda3/lib/python3.12/site-packages (from stack-data->ipython) (2.0.5)\n",
      "Requirement already satisfied: pure-eval in /opt/anaconda3/lib/python3.12/site-packages (from stack-data->ipython) (0.2.2)\n",
      "Requirement already satisfied: six in /opt/anaconda3/lib/python3.12/site-packages (from asttokens->stack-data->ipython) (1.16.0)\n",
      "Note: you may need to restart the kernel to use updated packages.\n"
     ]
    }
   ],
   "source": [
    "pip install ipython"
   ]
  },
  {
   "cell_type": "code",
   "execution_count": 11,
   "id": "d893fe4d-be8c-4044-b368-dbddcceebc2a",
   "metadata": {},
   "outputs": [
    {
     "data": {
      "text/latex": [
       "$\\displaystyle \\sigma(x)=\\frac{1}{1+e^{-x}}$"
      ],
      "text/plain": [
       "<IPython.core.display.Math object>"
      ]
     },
     "metadata": {},
     "output_type": "display_data"
    },
    {
     "data": {
      "text/latex": [
       "this is inline math: $\\sigma{(x)} = \\frac{1}{1+e^{-x}}$"
      ],
      "text/plain": [
       "<IPython.core.display.Latex object>"
      ]
     },
     "metadata": {},
     "output_type": "display_data"
    }
   ],
   "source": [
    "from IPython.display import display, Math, Latex\n",
    "'''\n",
    "use 'r' prefix to keep '\\' backslash character intact and safe in a raw string\n",
    "this is because '\\' is escape charecter in python, such as '\\n' = newline\n",
    "without 'r', python may misinterpret the backslash in latex\n",
    "'''\n",
    "\n",
    "display(Math(r\"\\sigma(x)=\\frac{1}{1+e^{-x}}\"))\n",
    "display(Latex(r\"this is inline math: $\\sigma{(x)} = \\frac{1}{1+e^{-x}}$\"))\n"
   ]
  },
  {
   "cell_type": "code",
   "execution_count": null,
   "id": "557e121e-fa8e-4aa2-98fb-e54298e8a5bf",
   "metadata": {},
   "outputs": [],
   "source": []
  }
 ],
 "metadata": {
  "kernelspec": {
   "display_name": "Python 3 (ipykernel)",
   "language": "python",
   "name": "python3"
  },
  "language_info": {
   "codemirror_mode": {
    "name": "ipython",
    "version": 3
   },
   "file_extension": ".py",
   "mimetype": "text/x-python",
   "name": "python",
   "nbconvert_exporter": "python",
   "pygments_lexer": "ipython3",
   "version": "3.12.4"
  }
 },
 "nbformat": 4,
 "nbformat_minor": 5
}
