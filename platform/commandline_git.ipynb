{
 "cells": [
  {
   "cell_type": "markdown",
   "id": "cc5528f2-1c37-4df8-87dd-24e3aebfb5c8",
   "metadata": {},
   "source": [
    "# Git Learning"
   ]
  },
  {
   "cell_type": "markdown",
   "id": "5c6ea0e5-fb39-48a6-bfee-aae957682c39",
   "metadata": {},
   "source": [
    "\n",
    "## Clone\n"
   ]
  },
  {
   "cell_type": "markdown",
   "id": "322707d6-e3f1-442f-b130-2e2f67c00431",
   "metadata": {
    "jp-MarkdownHeadingCollapsed": true
   },
   "source": [
    "\n",
    "### Git clone ssh \n",
    "- using ssh key\n",
    "- no required for input usename and password\n",
    "- \n",
    "if not bind a ssh key then\n",
    "  - create ssh private keys:\n",
    "    - using commandline: ssh-keygen -t ed25519 -C \"email@email.com\"\n",
    "    - this commandline is case sensitive\n",
    "    - ed25519 ssh key is strong (modern ECC), which is faster, more secure and      smaller(256 bits vs 2048/4096 bits) than traditional RSA keys.\n",
    "  - save this ssh key at default location\n",
    "  - check this ssh key:\n",
    "    - using commandline: cat ~/.ssh/id_ed25519.pub \n",
    "  - add this ssh key to github\n",
    "    - github - settings - ssh and GPG keys - new ssh key or add ssh key\n",
    "  - test the ssh connection:\n",
    "    - using commandline: ssh -T git@github.com   \n"
   ]
  },
  {
   "cell_type": "markdown",
   "id": "2e5aae92-dc34-4a13-ae72-d6de36aef786",
   "metadata": {
    "jp-MarkdownHeadingCollapsed": true
   },
   "source": [
    "### Git clone https\n",
    "- no configuration requirement in advance\n",
    "- login in: usename + token(not password)"
   ]
  },
  {
   "cell_type": "markdown",
   "id": "e910666e-0004-45b6-bc6b-afbe846466f6",
   "metadata": {},
   "source": [
    "## Update"
   ]
  },
  {
   "cell_type": "markdown",
   "id": "103adf36-db01-4ce4-b338-7a9c66ee1f6c",
   "metadata": {},
   "source": [
    "### Local to remote\n",
    "\n",
    "- add changed files: git add path / git add . // path=specific file path;'.'= all of changed files\n",
    "- push to local repository: git commit -m \"brief intruction of this commit\"\n",
    "- push to remote repository: git push -u origin main // main is the name of branch"
   ]
  },
  {
   "cell_type": "markdown",
   "id": "a6daf45e-0bca-4a39-8daa-cd5c6034e1ea",
   "metadata": {},
   "source": [
    "### Check local changed files\n",
    "- check the status: git status\n",
    "- check the details of the different files: git diff\n",
    "- display the history of commit: git log"
   ]
  },
  {
   "cell_type": "markdown",
   "id": "9d537236-fd9e-4c8f-9db3-23c59b1c0fd1",
   "metadata": {},
   "source": [
    "### Remote to local\n",
    "pull changes from remote repository: git pull"
   ]
  },
  {
   "cell_type": "markdown",
   "id": "f62cdf4e-894b-4ed9-959f-6d8f1be300a5",
   "metadata": {},
   "source": [
    "## Remove"
   ]
  },
  {
   "cell_type": "markdown",
   "id": "929f549b-0355-4a98-855b-454614ec7708",
   "metadata": {},
   "source": [
    "## Child repository"
   ]
  },
  {
   "cell_type": "markdown",
   "id": "0ccb2866-ff76-48f4-ab1e-73cf0d909b0d",
   "metadata": {},
   "source": [
    "### Submodule\n",
    "- child repository as a reference\n",
    "- keep parent and child repository independently\n",
    "- add submodule: \n",
    "  - get child repository: git submodule add ssh/https-url path\n",
    "  - push to local repository: commit git commit -m \"add submodule name for path\"\n",
    "  - push to remote repository: git push origin main\n",
    "- visable submodule: git submodule update --init --recursive\n",
    "- update submodule:\n",
    "  - get lastest submodule: git submodule update --remote --merge\n",
    "  - parent repository update changes: git add path\n",
    "  - push to local parent repository: git commit -m \"brief intruction of this commit\"\n",
    "  - push to remote parent repository: git push origin main // main is the name of branch\n",
    "\n"
   ]
  },
  {
   "cell_type": "markdown",
   "id": "b5c43dd3-5d60-4cdb-b2a3-b5ba785aaa83",
   "metadata": {},
   "source": [
    "### Subtree\n",
    "- copy child repository\n",
    "- the source could be tracked\n",
    "- no dependencies\n",
    "- to be continued"
   ]
  },
  {
   "cell_type": "markdown",
   "id": "a0c38f2c-b447-4027-bb02-c8b892f10334",
   "metadata": {},
   "source": [
    "## Branch"
   ]
  },
  {
   "cell_type": "markdown",
   "id": "15766dbe-a6ba-4fcc-aea2-c168a022d07e",
   "metadata": {},
   "source": [
    "### Cheak current branch\n",
    "\n",
    "- view local branches: git branch -vv\n",
    "- view remote branches: git branch -r\n",
    "- view the details of all of the remote branches: git remote show origin\n"
   ]
  },
  {
   "cell_type": "markdown",
   "id": "887becab-725a-4c78-92ab-4fe383d12c5c",
   "metadata": {},
   "source": [
    "### Create a new branch\n",
    "- Local\n",
    "  - generate a new branch： git branch branch-name\n",
    "    - e.g. using \"new_branch\" as branch name : git branch new_branch\n",
    "  - switch to new branch: git checkout branch-name\n",
    "    - e.g switch to a branch named \"new_branch\": git checkout new_branch\n",
    "  - generate and switch to a new branch: git checkout -b branch-name\n",
    "  - generate a new branch based on a commit: git branch branch-name commit-hash\n",
    "  - generate a new branch based on a local branch: git checkout -b branch-name branch-to-branch\n",
    "  - generate a new branch based on a remote branch: git checkout -b branch-name origin/branch-name\n",
    "- Remote\n",
    "  - based on local branch: git push -u origin local-branch-name\n",
    "  - github page: branches tag - new branch"
   ]
  },
  {
   "cell_type": "markdown",
   "id": "8d1b651a-12fb-44b4-ac56-7c96fe41bde3",
   "metadata": {},
   "source": [
    "### Track branch\n",
    "- get all remote branches to local: git fetch\n",
    "- switch or create a track to remote branch:\n",
    "  - e.g.1. git branch --set-upstream-to=origin/remote-branch\n",
    "  - e.g.2. git branch -u origin/remote-branch local-branch\n",
    "- remove track: git branch --unset-upstream branch\n",
    "- generate a local branch and track the remote branch with the same name: git checkout --track origin/test_remote_branch"
   ]
  },
  {
   "cell_type": "markdown",
   "id": "abe32f2f-d188-4958-9742-be73ae499e0f",
   "metadata": {},
   "source": [
    "###  Rename branch: \n",
    "git branch -m old-name new-name"
   ]
  },
  {
   "cell_type": "markdown",
   "id": "790a7b04-4ffb-4941-84ef-c0b3cb5e8f1a",
   "metadata": {},
   "source": [
    "### Delete a branch:\n",
    "- local: git branch -d branch-name\n",
    "  - if this branch is current branch, switch to another branch first\n",
    "  - if this branch track remote branch,remove the track it first\n",
    "- remote: git push origin --delete branch-name\n"
   ]
  },
  {
   "cell_type": "markdown",
   "id": "5543abf8-4d60-42ff-a262-feabf347ebe8",
   "metadata": {},
   "source": [
    "### Merge to target branch from source branch\n",
    "- first switch to target branch: git checkout target-branch-name\n",
    "- merge with history of source branch: git merge source-branch-name\n",
    "  - if hint: waiting for your editor to close the file\n",
    "    - if \"vim\" is the default editor to edit commit infomation:\n",
    "      - exit this editor: press \"exit\" key - input: \":wq\" - press \"enter\" key\n",
    "  - not forget to push to remote branch: git push -u origin target-branch-name\n",
    "  - check committed details:\n",
    "    - show commit details: git log --oneline\n",
    "      - e.g.:\n",
    "\n",
    "        merge branch source-branch\n",
    "        \n",
    "        source-branch-commit-info1\n",
    "        \n",
    "        source-branch-commit-info2\n",
    "        \n",
    "        target-branch-commit-info1\n",
    "        \n",
    "        target-branch-commit-info2\n",
    "        \n",
    "        target-branch-source-branch-same-node\n",
    "        \n",
    "        \n",
    "    - show committed details with relationship between branches: git log --oneline --graph\n",
    "      - e.g.:\n",
    "        \n",
    "        \\* merge branch source-branch\n",
    "          \n",
    "        |\\\\\n",
    "        \n",
    "        | * source-branch-commit-info1\n",
    "        \n",
    "        | * source-branch-commit-info2\n",
    "        \n",
    "        \\* | target-branch-commit-info1\n",
    "          \n",
    "        \\* | target-branch-commit-info2\n",
    "          \n",
    "        | /\n",
    "        \n",
    "        \\* target-branch-source-branch-same-node\n",
    "          \n",
    "- merge without history of source branch:\n",
    "  - merge all changes into one: git merge --squash source-branch-name\n",
    "  - commit: git commit -m \"merge log\"\n",
    "  - not forget to push to remote branch: git push origin target-branch-name"
   ]
  },
  {
   "cell_type": "markdown",
   "id": "f474adc5-1f39-47dd-99b0-7933d59b0504",
   "metadata": {},
   "source": [
    "## Configuration"
   ]
  },
  {
   "cell_type": "code",
   "execution_count": null,
   "id": "ce6f2d02-1571-49ff-bc7f-ab905f851710",
   "metadata": {},
   "outputs": [],
   "source": []
  },
  {
   "cell_type": "markdown",
   "id": "d9578876-8902-4d68-9679-a896c12d3885",
   "metadata": {},
   "source": [
    "### Gitignore\n",
    "- make a .gitignore file: touch .gitignore\n",
    "- edit this file: nano .gitignore\n",
    "- gitignore file lists like:\n",
    "  - .Ds_Store //macOS auto-generate file for store the file view\n",
    "  - .gitignore //itself\n",
    "  - **/.ipynb_checkpoints/ //ignore the jupyter auto-generate folder in all of the catalogues and subcatalogues\n",
    "- check ignored files: git status --ignored"
   ]
  },
  {
   "cell_type": "code",
   "execution_count": null,
   "id": "352ce8b9-0508-4f85-b95c-2a20f323ebf7",
   "metadata": {},
   "outputs": [],
   "source": []
  }
 ],
 "metadata": {
  "kernelspec": {
   "display_name": "Python 3 (ipykernel)",
   "language": "python",
   "name": "python3"
  },
  "language_info": {
   "codemirror_mode": {
    "name": "ipython",
    "version": 3
   },
   "file_extension": ".py",
   "mimetype": "text/x-python",
   "name": "python",
   "nbconvert_exporter": "python",
   "pygments_lexer": "ipython3",
   "version": "3.12.4"
  }
 },
 "nbformat": 4,
 "nbformat_minor": 5
}
