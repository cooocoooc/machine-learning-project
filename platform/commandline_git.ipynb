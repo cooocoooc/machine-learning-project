{
 "cells": [
  {
   "cell_type": "markdown",
   "id": "cc5528f2-1c37-4df8-87dd-24e3aebfb5c8",
   "metadata": {},
   "source": [
    "# Git Learning"
   ]
  },
  {
   "cell_type": "markdown",
   "id": "5c6ea0e5-fb39-48a6-bfee-aae957682c39",
   "metadata": {},
   "source": [
    "\n",
    "## Clone\n"
   ]
  },
  {
   "cell_type": "markdown",
   "id": "322707d6-e3f1-442f-b130-2e2f67c00431",
   "metadata": {
    "jp-MarkdownHeadingCollapsed": true
   },
   "source": [
    "\n",
    "### Git clone ssh \n",
    "- using ssh key\n",
    "- no required for input usename and password\n",
    "- \n",
    "if not bind a ssh key then\n",
    "  - create ssh private keys:\n",
    "    - using commandline: ssh-keygen -t ed25519 -C \"email@email.com\"\n",
    "    - this commandline is case sensitive\n",
    "    - ed25519 ssh key is strong (modern ECC), which is faster, more secure and      smaller(256 bits vs 2048/4096 bits) than traditional RSA keys.\n",
    "  - save this ssh key at default location\n",
    "  - check this ssh key:\n",
    "    - using commandline: cat ~/.ssh/id_ed25519.pub \n",
    "  - add this ssh key to github\n",
    "    - github - settings - ssh and GPG keys - new ssh key or add ssh key\n",
    "  - test the ssh connection:\n",
    "    - using commandline: ssh -T git@github.com   \n"
   ]
  },
  {
   "cell_type": "markdown",
   "id": "2e5aae92-dc34-4a13-ae72-d6de36aef786",
   "metadata": {
    "jp-MarkdownHeadingCollapsed": true
   },
   "source": [
    "### Git clone https\n",
    "- no configuration requirement in advance\n",
    "- login in: usename + token(not password)"
   ]
  },
  {
   "cell_type": "markdown",
   "id": "e910666e-0004-45b6-bc6b-afbe846466f6",
   "metadata": {},
   "source": [
    "## Update"
   ]
  },
  {
   "cell_type": "markdown",
   "id": "103adf36-db01-4ce4-b338-7a9c66ee1f6c",
   "metadata": {},
   "source": [
    "### Local to remote\n",
    "\n",
    "- add changed files: git add path / git add . // path=specific file path;'.'= all of changed files\n",
    "- push to local repository: git commit -m \"brief intruction of this commit\"\n",
    "- push to remote repository: git push -u origin main // main is the name of branch"
   ]
  },
  {
   "cell_type": "markdown",
   "id": "a6daf45e-0bca-4a39-8daa-cd5c6034e1ea",
   "metadata": {},
   "source": [
    "### Check local changed files\n",
    "- check the status: git status\n",
    "- check the details of the different files: git diff\n",
    "- display the history of commit: git log"
   ]
  },
  {
   "cell_type": "markdown",
   "id": "9d537236-fd9e-4c8f-9db3-23c59b1c0fd1",
   "metadata": {},
   "source": [
    "### Remote to local\n",
    "pull changes from remote repository: git pull"
   ]
  },
  {
   "cell_type": "markdown",
   "id": "f62cdf4e-894b-4ed9-959f-6d8f1be300a5",
   "metadata": {},
   "source": [
    "## Remove"
   ]
  },
  {
   "cell_type": "markdown",
   "id": "929f549b-0355-4a98-855b-454614ec7708",
   "metadata": {},
   "source": [
    "## Child repository"
   ]
  },
  {
   "cell_type": "markdown",
   "id": "0ccb2866-ff76-48f4-ab1e-73cf0d909b0d",
   "metadata": {},
   "source": [
    "### Submodule\n",
    "- child repository as a reference\n",
    "- keep parent and child repository independently\n",
    "- add submodule: \n",
    "  - get child repository: git submodule add ssh/https-url path\n",
    "  - push to local repository: commit git commit -m \"add submodule name for path\"\n",
    "  - push to remote repository: git push origin main\n",
    "- visable submodule: git submodule update --init --recursive\n",
    "- update submodule: git submodlue update --remote\n"
   ]
  },
  {
   "cell_type": "markdown",
   "id": "b5c43dd3-5d60-4cdb-b2a3-b5ba785aaa83",
   "metadata": {},
   "source": [
    "### Subtree\n",
    "- copy child repository\n",
    "- the source could be tracked\n",
    "- no dependencies\n",
    "- to be continued"
   ]
  },
  {
   "cell_type": "markdown",
   "id": "a0c38f2c-b447-4027-bb02-c8b892f10334",
   "metadata": {},
   "source": [
    "## Branch"
   ]
  },
  {
   "cell_type": "markdown",
   "id": "15766dbe-a6ba-4fcc-aea2-c168a022d07e",
   "metadata": {},
   "source": [
    "### Cheak current branch\n",
    "\n",
    "git branch -vv"
   ]
  },
  {
   "cell_type": "markdown",
   "id": "f474adc5-1f39-47dd-99b0-7933d59b0504",
   "metadata": {},
   "source": [
    "## Configuration"
   ]
  },
  {
   "cell_type": "markdown",
   "id": "d9578876-8902-4d68-9679-a896c12d3885",
   "metadata": {},
   "source": [
    "### Gitignore\n",
    "- make a .gitignore file: touch .gitignore\n",
    "- edit this file: nano .gitignore\n",
    "- gitignore file lists like:\n",
    "  - .Ds_Store //macOS auto-generate file for store the file view\n",
    "  - .gitignore //itself\n",
    "- check ignored files: git status --ignored"
   ]
  },
  {
   "cell_type": "code",
   "execution_count": null,
   "id": "352ce8b9-0508-4f85-b95c-2a20f323ebf7",
   "metadata": {},
   "outputs": [],
   "source": []
  }
 ],
 "metadata": {
  "kernelspec": {
   "display_name": "Python 3 (ipykernel)",
   "language": "python",
   "name": "python3"
  },
  "language_info": {
   "codemirror_mode": {
    "name": "ipython",
    "version": 3
   },
   "file_extension": ".py",
   "mimetype": "text/x-python",
   "name": "python",
   "nbconvert_exporter": "python",
   "pygments_lexer": "ipython3",
   "version": "3.12.4"
  }
 },
 "nbformat": 4,
 "nbformat_minor": 5
}
