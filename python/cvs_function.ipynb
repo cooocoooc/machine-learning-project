{
 "cells": [
  {
   "cell_type": "markdown",
   "metadata": {},
   "source": [
    " Test cvs function"
   ]
  },
  {
   "cell_type": "markdown",
   "metadata": {},
   "source": [
    "1. pandas package"
   ]
  },
  {
   "cell_type": "code",
   "execution_count": 1,
   "metadata": {},
   "outputs": [
    {
     "name": "stderr",
     "output_type": "stream",
     "text": [
      "<ipython-input-1-8cf15c99372f>:4: DeprecationWarning: \n",
      "Pyarrow will become a required dependency of pandas in the next major release of pandas (pandas 3.0),\n",
      "(to allow more performant data types, such as the Arrow string type, and better interoperability with other libraries)\n",
      "but was not found to be installed on your system.\n",
      "If this would cause problems for you,\n",
      "please provide us feedback at https://github.com/pandas-dev/pandas/issues/54466\n",
      "        \n",
      "  import pandas as pd\n"
     ]
    }
   ],
   "source": [
    "# panda cvs function\n",
    "\n",
    "# save to file\n",
    "import pandas as pd\n",
    "\n",
    "def SaveToCV_PD(data,file_name):\n",
    "    pf = pd.DataFrame(data)\n",
    "    #index = False means no row number\n",
    "    pf.to_csv(file_name,index = False)\n",
    "\n",
    "# read from file\n",
    "def ReadFromCV_PD(file_name):\n",
    "    df = pd.read_csv(file_name)\n",
    "    return df"
   ]
  },
  {
   "cell_type": "markdown",
   "metadata": {},
   "source": [
    "Test panda function"
   ]
  },
  {
   "cell_type": "code",
   "execution_count": 51,
   "metadata": {},
   "outputs": [],
   "source": [
    "# test dataset\n",
    "data_panada = {'name':['Alice','Bob'],\n",
    "           'Age':[25,30],\n",
    "           'City':['London','Durham']}\n",
    "\n",
    "panda_csv_file_name = 'panada_csv_file.csv'"
   ]
  },
  {
   "cell_type": "code",
   "execution_count": 74,
   "metadata": {},
   "outputs": [],
   "source": [
    "# test save function of pandas\n",
    "SaveToCV_PD(data_panada,panda_csv_file_name)"
   ]
  },
  {
   "cell_type": "code",
   "execution_count": 75,
   "metadata": {},
   "outputs": [
    {
     "name": "stdout",
     "output_type": "stream",
     "text": [
      "    name  Age    City\n",
      "0  Alice   25  London\n",
      "1    Bob   30  Durham\n"
     ]
    }
   ],
   "source": [
    "# test read function of pandas\n",
    "data_pd = ReadFromCV_PD(panda_csv_file_name)\n",
    "print(data_pd)"
   ]
  },
  {
   "cell_type": "code",
   "execution_count": 76,
   "metadata": {},
   "outputs": [
    {
     "name": "stdout",
     "output_type": "stream",
     "text": [
      "    name  Age\n",
      "0  Alice   25\n",
      "1    Bob   30\n",
      "['Alice', 'Bob']\n",
      "Index(['name', 'Age', 'City'], dtype='object')\n",
      "0    25\n",
      "1    30\n",
      "Name: Age, dtype: int64\n"
     ]
    }
   ],
   "source": [
    "print(data_pd[['name','Age']])\n",
    "print(data_pd['name'].tolist())\n",
    "print(data_pd.columns)\n",
    "print(data_pd['Age'])"
   ]
  },
  {
   "cell_type": "code",
   "execution_count": 20,
   "metadata": {},
   "outputs": [
    {
     "name": "stdout",
     "output_type": "stream",
     "text": [
      "{0: [0, 0, 0, 0, 0, 0], 1: [1, 1, 1, 1, 1, 1], 2: [2, 2, 2, 2, 2, 2]}\n",
      "   0  1  2\n",
      "0  0  1  2\n",
      "1  0  1  2\n",
      "2  0  1  2\n",
      "3  0  1  2\n",
      "4  0  1  2\n",
      "5  0  1  2\n",
      "0    0\n",
      "1    1\n",
      "2    2\n",
      "Name: 1, dtype: int64\n",
      "[0, 1, 2]\n",
      "0    0\n",
      "1    1\n",
      "2    2\n",
      "Name: 2, dtype: int64\n",
      "0    1\n",
      "1    1\n",
      "2    1\n",
      "3    1\n",
      "4    1\n",
      "5    1\n",
      "Name: 1, dtype: int64\n"
     ]
    }
   ],
   "source": [
    "# test data dictionary and its transpose\n",
    "\n",
    "dics = {}\n",
    "for echo in range(6):  \n",
    "    for i in range(3):\n",
    "        loss = i\n",
    "        if i not in dics:\n",
    "            dics[i] = []\n",
    "        dics[i].append(loss)    \n",
    "print(dics)\n",
    "SaveToCV_PD(dics,\"test_data_structure.cvs\")\n",
    "\n",
    "dic_loss_data = ReadFromCV_PD(\"test_data_structure.cvs\")\n",
    "print(dic_loss_data)\n",
    "\n",
    "# get row\n",
    "row = dic_loss_data.loc[1]\n",
    "row_list = row.tolist()\n",
    "row_pos = dic_loss_data.iloc[2]\n",
    "print(row)\n",
    "print(row_list)\n",
    "print(row_pos)\n",
    "\n",
    "# get column\n",
    "col = dic_loss_data['1']\n",
    "print(col)"
   ]
  },
  {
   "cell_type": "markdown",
   "metadata": {},
   "source": [
    "2. built-in library"
   ]
  },
  {
   "cell_type": "code",
   "execution_count": 28,
   "metadata": {},
   "outputs": [],
   "source": [
    "# csv built-in function\n",
    "\n",
    "# save to file\n",
    "import csv\n",
    "\n",
    "def SaveToCV_ORI(data,file_name):\n",
    "    with open(file_name,mode='w',newline='') as file:\n",
    "        writer = csv.writer(file)\n",
    "        writer.writerows(data)\n",
    "\n",
    "\n",
    "# read from file\n",
    "def ReadFromCV_ORI(file_name):\n",
    "    with open(file_name,mode='r') as file:\n",
    "        reader = csv.reader(file)\n",
    "        data = list(reader)\n",
    "    return data\n",
    "\n",
    "def ReadFromCV_ORI_Str(file_name):\n",
    "    with open(file_name,mode='r') as file:\n",
    "        reader = csv.DictReader(file)\n",
    "        data = list(reader)\n",
    "        '''\n",
    "        for row in data:\n",
    "            print(row['Name'],row['Age']) #access by column name\n",
    "        '''\n",
    "    return data\n",
    "    "
   ]
  },
  {
   "cell_type": "markdown",
   "metadata": {},
   "source": [
    "Test csv built-in function"
   ]
  },
  {
   "cell_type": "code",
   "execution_count": 51,
   "metadata": {},
   "outputs": [],
   "source": [
    "# test dataset\n",
    "\n",
    "ori_csv_file_name = 'ori_csv_file.csv'\n"
   ]
  },
  {
   "cell_type": "code",
   "execution_count": 29,
   "metadata": {},
   "outputs": [],
   "source": [
    "data_ori_str = ReadFromCV_ORI_Str(panda_csv_file_name)"
   ]
  },
  {
   "cell_type": "code",
   "execution_count": 30,
   "metadata": {},
   "outputs": [
    {
     "name": "stdout",
     "output_type": "stream",
     "text": [
      "Alice 25\n",
      "Bob 30\n"
     ]
    }
   ],
   "source": [
    "for row in data_ori_str:\n",
    "    print(row['name'],row['Age']) #access by column name"
   ]
  },
  {
   "cell_type": "code",
   "execution_count": 33,
   "metadata": {},
   "outputs": [
    {
     "name": "stdout",
     "output_type": "stream",
     "text": [
      "['25', '30']\n"
     ]
    }
   ],
   "source": [
    "ages = [row['Age'] for row in data_ori_str]\n",
    "print(ages)"
   ]
  },
  {
   "cell_type": "code",
   "execution_count": 35,
   "metadata": {},
   "outputs": [
    {
     "name": "stdout",
     "output_type": "stream",
     "text": [
      "[25, 30]\n"
     ]
    }
   ],
   "source": [
    "ages = [int(row['Age']) for row in data_ori_str]\n",
    "print(ages)"
   ]
  },
  {
   "cell_type": "code",
   "execution_count": 54,
   "metadata": {},
   "outputs": [
    {
     "name": "stdout",
     "output_type": "stream",
     "text": [
      "[['name', 'Age', 'City'], ['Alice', '25', 'London'], ['Bob', '30', 'Durham']]\n"
     ]
    }
   ],
   "source": [
    "data_ori = ReadFromCV_ORI(panda_csv_file_name)\n",
    "print(data_ori)"
   ]
  },
  {
   "cell_type": "code",
   "execution_count": 71,
   "metadata": {},
   "outputs": [
    {
     "name": "stdout",
     "output_type": "stream",
     "text": [
      "['name', 'Age', 'City']\n",
      "[['Alice', '25', 'London'], ['Bob', '30', 'Durham']]\n",
      "['Age', '25', '30']\n"
     ]
    }
   ],
   "source": [
    "header = data_ori[0]\n",
    "print(header)\n",
    "rows = data_ori[1:]\n",
    "print(rows)\n",
    "\n",
    "age_index = header.index('Age')\n",
    "ages = [row[age_index] for row in data_ori]\n",
    "print(ages)\n",
    "\n"
   ]
  },
  {
   "cell_type": "markdown",
   "metadata": {},
   "source": [
    "3. numpy package"
   ]
  },
  {
   "cell_type": "code",
   "execution_count": 8,
   "metadata": {},
   "outputs": [],
   "source": [
    "# numpy function\n",
    "\n",
    "# save to file\n",
    "import numpy as np\n",
    "\n",
    "def SaveToCV_NP(data,file_name):\n",
    "    # %d for integers %.2f for float values with 2 decimals \n",
    "    np.savetxt(file_name,data,delimiter=',',fmt = '%d')\n",
    "\n",
    "\n",
    "# read from file\n",
    "def ReadFromCV_NP(file_name):\n",
    "    # for number if includes text using dtype = str\n",
    "    data = np.loadtxt(file_name,delimiter = ',', skiprows = 1)\n",
    "    return data\n",
    "\n",
    "# read as data structure \n",
    "def ReadFromCv_NP_structure(file_name):\n",
    "    data = np.genfromtxt(file_name,delimiter=',',names = True,dtype = None,encoding = 'utf-8')\n",
    "    return data\n"
   ]
  },
  {
   "cell_type": "markdown",
   "metadata": {},
   "source": [
    "Test numpy function"
   ]
  },
  {
   "cell_type": "code",
   "execution_count": 51,
   "metadata": {},
   "outputs": [],
   "source": [
    "# test dataset\n",
    "\n",
    "data_np_num = np.array([[1,2,3],[4,5,6]])\n",
    "\n",
    "np_csv_file_name = 'np_csv_file.csv'\n"
   ]
  },
  {
   "cell_type": "code",
   "execution_count": 73,
   "metadata": {},
   "outputs": [
    {
     "name": "stdout",
     "output_type": "stream",
     "text": [
      "[('Alice', 25, 'London') ('Bob', 30, 'Durham')]\n"
     ]
    }
   ],
   "source": [
    "data_np = ReadFromCv_NP_structure(panda_csv_file_name)\n",
    "print(data_np)"
   ]
  },
  {
   "cell_type": "code",
   "execution_count": 46,
   "metadata": {},
   "outputs": [
    {
     "name": "stdout",
     "output_type": "stream",
     "text": [
      "['Alice' 'Bob'] 30\n"
     ]
    }
   ],
   "source": [
    "print(data_np['name'],data_np['Age'][1])"
   ]
  },
  {
   "cell_type": "code",
   "execution_count": 48,
   "metadata": {},
   "outputs": [
    {
     "name": "stdout",
     "output_type": "stream",
     "text": [
      "[{'name': 'Alice', 'Age': 25, 'City': 'London'}, {'name': 'Bob', 'Age': 30, 'City': 'Durham'}]\n"
     ]
    }
   ],
   "source": [
    "data_np_str = [dict(zip(data_np.dtype.names, row)) for row in data_np] \n",
    "print(data_np_str)"
   ]
  },
  {
   "cell_type": "code",
   "execution_count": 50,
   "metadata": {},
   "outputs": [
    {
     "ename": "ValueError",
     "evalue": "could not convert string 'Alice' to float64 at row 0, column 1.",
     "output_type": "error",
     "traceback": [
      "\u001b[0;31m---------------------------------------------------------------------------\u001b[0m",
      "\u001b[0;31mValueError\u001b[0m                                Traceback (most recent call last)",
      "\u001b[0;31mValueError\u001b[0m: could not convert string to float: 'Alice'",
      "\nThe above exception was the direct cause of the following exception:\n",
      "\u001b[0;31mValueError\u001b[0m                                Traceback (most recent call last)",
      "\u001b[0;32m<ipython-input-50-605e34353cb1>\u001b[0m in \u001b[0;36m<module>\u001b[0;34m\u001b[0m\n\u001b[0;32m----> 1\u001b[0;31m \u001b[0mdata_np_num\u001b[0m \u001b[0;34m=\u001b[0m \u001b[0mReadFromCV_NP\u001b[0m\u001b[0;34m(\u001b[0m\u001b[0mpanda_csv_file_name\u001b[0m\u001b[0;34m)\u001b[0m\u001b[0;34m\u001b[0m\u001b[0;34m\u001b[0m\u001b[0m\n\u001b[0m\u001b[1;32m      2\u001b[0m \u001b[0mprint\u001b[0m\u001b[0;34m(\u001b[0m\u001b[0mdata_np_num\u001b[0m\u001b[0;34m)\u001b[0m\u001b[0;34m\u001b[0m\u001b[0;34m\u001b[0m\u001b[0m\n",
      "\u001b[0;32m<ipython-input-36-02022a0f2e3b>\u001b[0m in \u001b[0;36mReadFromCV_NP\u001b[0;34m(file_name)\u001b[0m\n\u001b[1;32m     12\u001b[0m \u001b[0;32mdef\u001b[0m \u001b[0mReadFromCV_NP\u001b[0m\u001b[0;34m(\u001b[0m\u001b[0mfile_name\u001b[0m\u001b[0;34m)\u001b[0m\u001b[0;34m:\u001b[0m\u001b[0;34m\u001b[0m\u001b[0;34m\u001b[0m\u001b[0m\n\u001b[1;32m     13\u001b[0m     \u001b[0;31m# for number if includes text using dtype = str\u001b[0m\u001b[0;34m\u001b[0m\u001b[0;34m\u001b[0m\u001b[0m\n\u001b[0;32m---> 14\u001b[0;31m     \u001b[0mdata\u001b[0m \u001b[0;34m=\u001b[0m \u001b[0mnp\u001b[0m\u001b[0;34m.\u001b[0m\u001b[0mloadtxt\u001b[0m\u001b[0;34m(\u001b[0m\u001b[0mfile_name\u001b[0m\u001b[0;34m,\u001b[0m\u001b[0mdelimiter\u001b[0m \u001b[0;34m=\u001b[0m \u001b[0;34m','\u001b[0m\u001b[0;34m,\u001b[0m \u001b[0mskiprows\u001b[0m \u001b[0;34m=\u001b[0m \u001b[0;36m1\u001b[0m\u001b[0;34m)\u001b[0m\u001b[0;34m\u001b[0m\u001b[0;34m\u001b[0m\u001b[0m\n\u001b[0m\u001b[1;32m     15\u001b[0m     \u001b[0;32mreturn\u001b[0m \u001b[0mdata\u001b[0m\u001b[0;34m\u001b[0m\u001b[0;34m\u001b[0m\u001b[0m\n\u001b[1;32m     16\u001b[0m \u001b[0;34m\u001b[0m\u001b[0m\n",
      "\u001b[0;32m/apps/jupyterhub/COMP52715/lib/python3.11/site-packages/numpy/lib/npyio.py\u001b[0m in \u001b[0;36mloadtxt\u001b[0;34m(fname, dtype, comments, delimiter, converters, skiprows, usecols, unpack, ndmin, encoding, max_rows, quotechar, like)\u001b[0m\n\u001b[1;32m   1371\u001b[0m         \u001b[0mdelimiter\u001b[0m \u001b[0;34m=\u001b[0m \u001b[0mdelimiter\u001b[0m\u001b[0;34m.\u001b[0m\u001b[0mdecode\u001b[0m\u001b[0;34m(\u001b[0m\u001b[0;34m'latin1'\u001b[0m\u001b[0;34m)\u001b[0m\u001b[0;34m\u001b[0m\u001b[0;34m\u001b[0m\u001b[0m\n\u001b[1;32m   1372\u001b[0m \u001b[0;34m\u001b[0m\u001b[0m\n\u001b[0;32m-> 1373\u001b[0;31m     arr = _read(fname, dtype=dtype, comment=comment, delimiter=delimiter,\n\u001b[0m\u001b[1;32m   1374\u001b[0m                 \u001b[0mconverters\u001b[0m\u001b[0;34m=\u001b[0m\u001b[0mconverters\u001b[0m\u001b[0;34m,\u001b[0m \u001b[0mskiplines\u001b[0m\u001b[0;34m=\u001b[0m\u001b[0mskiprows\u001b[0m\u001b[0;34m,\u001b[0m \u001b[0musecols\u001b[0m\u001b[0;34m=\u001b[0m\u001b[0musecols\u001b[0m\u001b[0;34m,\u001b[0m\u001b[0;34m\u001b[0m\u001b[0;34m\u001b[0m\u001b[0m\n\u001b[1;32m   1375\u001b[0m                 \u001b[0munpack\u001b[0m\u001b[0;34m=\u001b[0m\u001b[0munpack\u001b[0m\u001b[0;34m,\u001b[0m \u001b[0mndmin\u001b[0m\u001b[0;34m=\u001b[0m\u001b[0mndmin\u001b[0m\u001b[0;34m,\u001b[0m \u001b[0mencoding\u001b[0m\u001b[0;34m=\u001b[0m\u001b[0mencoding\u001b[0m\u001b[0;34m,\u001b[0m\u001b[0;34m\u001b[0m\u001b[0;34m\u001b[0m\u001b[0m\n",
      "\u001b[0;32m/apps/jupyterhub/COMP52715/lib/python3.11/site-packages/numpy/lib/npyio.py\u001b[0m in \u001b[0;36m_read\u001b[0;34m(fname, delimiter, comment, quote, imaginary_unit, usecols, skiplines, max_rows, converters, ndmin, unpack, dtype, encoding)\u001b[0m\n\u001b[1;32m   1014\u001b[0m \u001b[0;34m\u001b[0m\u001b[0m\n\u001b[1;32m   1015\u001b[0m         \u001b[0;32mif\u001b[0m \u001b[0mread_dtype_via_object_chunks\u001b[0m \u001b[0;32mis\u001b[0m \u001b[0;32mNone\u001b[0m\u001b[0;34m:\u001b[0m\u001b[0;34m\u001b[0m\u001b[0;34m\u001b[0m\u001b[0m\n\u001b[0;32m-> 1016\u001b[0;31m             arr = _load_from_filelike(\n\u001b[0m\u001b[1;32m   1017\u001b[0m                 \u001b[0mdata\u001b[0m\u001b[0;34m,\u001b[0m \u001b[0mdelimiter\u001b[0m\u001b[0;34m=\u001b[0m\u001b[0mdelimiter\u001b[0m\u001b[0;34m,\u001b[0m \u001b[0mcomment\u001b[0m\u001b[0;34m=\u001b[0m\u001b[0mcomment\u001b[0m\u001b[0;34m,\u001b[0m \u001b[0mquote\u001b[0m\u001b[0;34m=\u001b[0m\u001b[0mquote\u001b[0m\u001b[0;34m,\u001b[0m\u001b[0;34m\u001b[0m\u001b[0;34m\u001b[0m\u001b[0m\n\u001b[1;32m   1018\u001b[0m                 \u001b[0mimaginary_unit\u001b[0m\u001b[0;34m=\u001b[0m\u001b[0mimaginary_unit\u001b[0m\u001b[0;34m,\u001b[0m\u001b[0;34m\u001b[0m\u001b[0;34m\u001b[0m\u001b[0m\n",
      "\u001b[0;31mValueError\u001b[0m: could not convert string 'Alice' to float64 at row 0, column 1."
     ]
    }
   ],
   "source": [
    "data_np_num = ReadFromCV_NP(panda_csv_file_name)\n",
    "print(data_np_num)"
   ]
  },
  {
   "cell_type": "code",
   "execution_count": 52,
   "metadata": {},
   "outputs": [],
   "source": [
    "# test save function of numpy\n",
    "SaveToCV_PD(data_np_num,np_csv_file_name)"
   ]
  },
  {
   "cell_type": "code",
   "execution_count": 53,
   "metadata": {},
   "outputs": [
    {
     "name": "stdout",
     "output_type": "stream",
     "text": [
      "[[1. 2. 3.]\n",
      " [4. 5. 6.]]\n"
     ]
    }
   ],
   "source": [
    "data_np_num = ReadFromCV_NP(np_csv_file_name)\n",
    "print(data_np_num)"
   ]
  },
  {
   "cell_type": "code",
   "execution_count": 72,
   "metadata": {},
   "outputs": [],
   "source": [
    "SaveToCV_PD(data_panada,panda_csv_file_name)"
   ]
  },
  {
   "cell_type": "markdown",
   "metadata": {},
   "source": [
    "4. pyexcel library"
   ]
  },
  {
   "cell_type": "code",
   "execution_count": null,
   "metadata": {},
   "outputs": [],
   "source": [
    "# pyexcel\n",
    "import pyexcel \n",
    "\n",
    "def SaveToCV_PY(data,file_name):\n",
    "    # %d for integers %.2f for float values with 2 decimals \n",
    "    pyexcel.save_as(array = data, dest_file_name = file_name)\n",
    "\n",
    "\n",
    "# read from file\n",
    "def ReadFromCV_PY(file_name):\n",
    "    data = pyexcel.get_array(file_name = file_name)\n",
    "    return data"
   ]
  },
  {
   "cell_type": "markdown",
   "metadata": {},
   "source": [
    "Test pyexcel function"
   ]
  },
  {
   "cell_type": "code",
   "execution_count": 51,
   "metadata": {},
   "outputs": [],
   "source": [
    "# test dataset\n",
    "\n",
    "py_csv_file_name = 'py_csv_file.csv'"
   ]
  },
  {
   "cell_type": "code",
   "execution_count": null,
   "metadata": {},
   "outputs": [],
   "source": [
    "data_py = ReadFromCV_PY(panda_csv_file_name)\n",
    "print(data_py)"
   ]
  }
 ],
 "metadata": {
  "kernelspec": {
   "display_name": "Python 3 (ipykernel)",
   "language": "python",
   "name": "python3"
  },
  "language_info": {
   "codemirror_mode": {
    "name": "ipython",
    "version": 3
   },
   "file_extension": ".py",
   "mimetype": "text/x-python",
   "name": "python",
   "nbconvert_exporter": "python",
   "pygments_lexer": "ipython3",
   "version": "3.12.4"
  }
 },
 "nbformat": 4,
 "nbformat_minor": 4
}
