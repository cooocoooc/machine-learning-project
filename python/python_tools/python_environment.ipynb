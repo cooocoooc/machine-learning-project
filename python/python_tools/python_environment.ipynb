{
 "cells": [
  {
   "cell_type": "markdown",
   "metadata": {},
   "source": [
    "# Python Environment "
   ]
  },
  {
   "cell_type": "markdown",
   "metadata": {},
   "source": [
    "## 1.  Virtual Environment"
   ]
  },
  {
   "cell_type": "markdown",
   "metadata": {},
   "source": [
    "### 1.1 Pros: "
   ]
  },
  {
   "cell_type": "markdown",
   "metadata": {},
   "source": [
    "- ~~shared modules~~\n",
    "  - only pure python modulels available to share with different python version\n",
    "    - source code open and read directly \n",
    "    - file extension: only contain .py file \n",
    "  - python modules compiled for a specific version\n",
    "    - file extension: .dll .so .pyd etc\n",
    "    - e.g.1 NumPy - C code, \n",
    "    - e.g.2 panda - depend on NumPy and Cython\n",
    "    - e.g.3 SciPy - Built on top of NumPy with C/C++ and Fortran code\n",
    "    - e.g.4 scikit-learn - Uses Cython and compiled C/C++ for performance.\n",
    "    - e.g.5 TensorFlow - Core engine is in C++ with Python bindings\n",
    "    - e.g.6 PyTorch - Backend is C++ (ATen) with Python interface.\n",
    "- copy environments\n",
    "- differnet projects supported by different version of modules or python\n",
    "- keep the settings independent\n",
    "  - not affect others when using public resources\n",
    "    - e.g. server \n",
    "  - not destroy the global environment if encounting broken installation\n",
    "    - e.g. client "
   ]
  },
  {
   "cell_type": "markdown",
   "metadata": {},
   "source": [
    "### 1.2 How to build it"
   ]
  },
  {
   "cell_type": "markdown",
   "metadata": {},
   "source": [
    "#### 1.2.1 Built-in tool"
   ]
  },
  {
   "cell_type": "markdown",
   "metadata": {},
   "source": [
    "- create virtual environment\n",
    "  - terminal:\n",
    "    - python3 -m venv venv\n",
    "    - ~~python -m venv venv~~\n",
    "      - unavailable for python version 2"
   ]
  },
  {
   "cell_type": "markdown",
   "metadata": {},
   "source": [
    "- enter virtual environment\n",
    "  - linux or macOS: source venv/bin/activate   \n",
    "  - windows: venv\\Scripts\\activate  \n",
    "- copy environment\n",
    "  - using requirements.txt\n",
    "    - pip freeze > requirements.txt\n",
    "    - pip install -r requirements.txt\n",
    "    - limitations:\n",
    "      - includes all packages\n",
    "      - dependency issues\n",
    "        - no support for dependency trees or environment-specific packages\n",
    "        - confilicts caused by order \n",
    "          - e.g. packageA first installed and packageB need different version of the same library\n",
    "          - break the environment\n",
    "      - no hash verification by default\n",
    "        - hash verification\n",
    "          - reproducibility:fully reproducible compared with version(partial caused by re-uploaded)\n",
    "          - unique for the specific binary file\n",
    "            - not be tampered\n",
    "            - e.g. the same version may link different files \n",
    "          - security: mismatch = refuse to install\n",
    "          - only for copy from the same platform\n",
    "            - e.g. imcompatibility due to different gpu architextures for gpu-based modules, such as pytorch-lightning     \n",
    "      - no environment support\n",
    "        - no built-in support for specifical python version or environment marker\n",
    "          - e.g. platform-specific dependencies                     \n",
    "- exit environment\n",
    "  - deactivate\n",
    "- delete environment\n",
    "  - linux or macOS: rm -rf env_name \n",
    "  - windows: rmdir /s /q env_name"
   ]
  },
  {
   "cell_type": "markdown",
   "metadata": {},
   "source": [
    "#### 1.2.2 External tools "
   ]
  },
  {
   "cell_type": "markdown",
   "metadata": {},
   "source": [
    "##### Option1: from .yml"
   ]
  },
  {
   "cell_type": "markdown",
   "metadata": {},
   "source": [
    "- environment.yml"
   ]
  },
  {
   "cell_type": "markdown",
   "metadata": {},
   "source": [
    "- - conda support\n",
    "    - manage both python and non-python dependencies\n",
    "    - how to use it:\n",
    "      - conda create --name env_name python=version\n",
    "      - conda activate env_name\n",
    "      - conda env create -f environment.yml\n",
    "        - create env from .yml file  \n",
    "      - conda env export > environment.yml\n",
    "        - exports env to .yml file  \n",
    "      - conda deactivate\n",
    "      - conda remove --name env_name --all\n",
    "      - conda env list or conda info --envs\n",
    "        - view all environments   \n",
    "    - limitations:\n",
    "      - partial reproducibility\n",
    "        - unless fully pinned  \n",
    "        - only top-level packages, not full dependency tree\n",
    "          - resolve dependencies dynamically\n",
    "          - resolve sub-dependencies on diffferent devices\n",
    "            - conda-lock lock\n",
    "            - conda env export --from-history\n",
    "      - no built-in support to isolate optional or dev dependencies\n",
    "      - limited packages in conda channels\n",
    "        - some package only exist PyPI\n",
    "          - install using pip\n",
    "          - without the dependency management of conda\n",
    "          - pip may overwrite conda-install packages"
   ]
  },
  {
   "cell_type": "markdown",
   "metadata": {},
   "source": [
    "- - features:        \n",
    "    - readable:\n",
    "      - easy to read, edit, and understand              \n",
    "      - minimal use of punctuation\n",
    "        - no braces, quotes, or unnecessary commas\n",
    "        - indentation-sensitive\n",
    "          - but inconsistent spacing(2 vs 4 spaces) or incorrect indentation cause error\n",
    "        - but unclear error messages\n",
    "      - only declarative\n",
    "        - no support for variables, loops or conditionals by default \n",
    "    - structured and hierarchical:\n",
    "      - nested data support\n",
    "      - list and dictionary support\n",
    "        - arrays e.g. items: /n - apple /n - banana\n",
    "        - dic e.g. config: /n color: white            \n",
    "    - comments supported using \"#\"\n",
    "      - but cannot add metadata or disable blocks\n",
    "      - only declarative\n",
    "        - no support for variables, loops or conditionals by default \n",
    "    - auto convert the data type for unquoted text\n",
    "      - but data type sometimes incorrectly\n",
    "        - e.g. silent errors caused by the string without quote:\n",
    "              - 080 as octal\n",
    "              - yes as true\n",
    "      - lack of built-in validation\n",
    "        - unless using tools like yamllint     \n",
    "    - good for conda envs, github actions workflows\n",
    "      - but different rules on different tools\n",
    "      - only for small configs\n",
    "        - hard to manage at scale without supported tools      "
   ]
  },
  {
   "cell_type": "markdown",
   "metadata": {},
   "source": [
    "#### Option2: from .toml and .lock"
   ]
  },
  {
   "cell_type": "markdown",
   "metadata": {},
   "source": [
    "- pyproject.toml and poetry.lock"
   ]
  },
  {
   "cell_type": "markdown",
   "metadata": {
    "jp-MarkdownHeadingCollapsed": true
   },
   "source": [
    "- - pyproject.toml\n",
    "    - labeled with [tool.poetry.dependencies]\n",
    "  - poetry.lock\n",
    "    - exact version and all its sub-dependencies\n",
    "  - poetry support\n",
    "    - dependency management and packaging\n",
    "      - auto solve and lock dependencies\n",
    "      - consistent environments\n",
    "    - handles virtual environments automatically\n",
    "      - single environmet per project\n",
    "        - not share across projects  \n",
    "      - limited control of virtual environment location\n",
    "        - default location: .venv  \n",
    "      - no built-in command to deactivate(like poetry deactivate)\n",
    "        - rely on shell behavior(exit, deactivate)\n",
    "    - how to use it:\n",
    "      - input: \n",
    "        - poetry install\n",
    "          - import from .toml file\n",
    "          - install all listed dependencies\n",
    "          - with poetry.lock\n",
    "            - using exact versions locked\n",
    "          - otherwise\n",
    "            - resolve and install compatible version based on .toml\n",
    "      - output:\n",
    "        - rebuild .toml and .lock from scratch\n",
    "          - poetry init\n",
    "            - create a new pyproject.toml \n",
    "          - poetry add ...\n",
    "            - add dependencies \n",
    "          - poetry lock\n",
    "            - generate poetry.lock\n",
    "        - .toml and .lock update the dependencies when add packages \n",
    "        - export full env to requirements.txt\n",
    "          - poetry export -f requirements.txt -o requirements.txt\n",
    "            - -f: short for --format, output format of the dependencies\n",
    "            - -o: short for --output: write the outcome into the file\n",
    "  - limitations:\n",
    "    - some traditional project without pyproject.toml\n",
    "    - limited support for non-python dependencies\n",
    "    - more slower due to dependency resolution and local file generation "
   ]
  },
  {
   "cell_type": "markdown",
   "metadata": {},
   "source": [
    "### 1.3 What happens behind scenraio"
   ]
  },
  {
   "cell_type": "markdown",
   "metadata": {},
   "source": [
    "#### Looking into the installation"
   ]
  },
  {
   "cell_type": "markdown",
   "metadata": {},
   "source": [
    "##### python"
   ]
  },
  {
   "cell_type": "markdown",
   "metadata": {},
   "source": [
    "- terminal: `python3 -m venv venv`\n",
    "  - call python script:\n",
    "  - `Lib/venv/__init__.py`\n",
    "    - `EnvBuilder`\n",
    "      - `create` function"
   ]
  },
  {
   "cell_type": "raw",
   "metadata": {},
   "source": [
    " def create(self, env_dir):\n",
    "        \"\"\"\n",
    "        Create a virtual environment in a directory.\n",
    "\n",
    "        :param env_dir: The target directory to create an environment in.\n",
    "\n",
    "        \"\"\"\n",
    "        env_dir = os.path.abspath(env_dir)\n",
    "        context = self.ensure_directories(env_dir)\n",
    "        for scm in self.scm_ignore_files:\n",
    "            getattr(self, f\"create_{scm}_ignore_file\")(context)\n",
    "        # See issue 24875. We need system_site_packages to be False\n",
    "        # until after pip is installed.\n",
    "        true_system_site_packages = self.system_site_packages\n",
    "        self.system_site_packages = False\n",
    "        self.create_configuration(context)\n",
    "        self.setup_python(context)\n",
    "        if self.with_pip:\n",
    "            self._setup_pip(context)\n",
    "......."
   ]
  },
  {
   "cell_type": "markdown",
   "metadata": {},
   "source": [
    "- - - - `create_configuration` function\n",
    "        - make directory structure\n",
    "        - write `pyvenv.cfg`"
   ]
  },
  {
   "cell_type": "raw",
   "metadata": {},
   "source": [
    " def create_configuration(self, context):\n",
    "        \"\"\"\n",
    "        Create a configuration file indicating where the environment's Python\n",
    "        was copied from, and whether the system site-packages should be made\n",
    "        available in the environment.\n",
    "\n",
    "        :param context: The information for the environment creation request\n",
    "                        being processed.\n",
    "        \"\"\"\n",
    "        context.cfg_path = path = os.path.join(context.env_dir, 'pyvenv.cfg')\n",
    "        with open(path, 'w', encoding='utf-8') as f:\n",
    "            f.write('home = %s\\n' % context.python_dir)\n",
    "            if self.system_site_packages:\n",
    "                incl = 'true'\n",
    "            else:\n",
    "                incl = 'false'\n",
    "            f.write('include-system-site-packages = %s\\n' % incl)\n",
    "            f.write('version = %d.%d.%d\\n' % sys.version_info[:3])\n",
    "            if self.prompt is not None:\n",
    "                f.write(f'prompt = {self.prompt!r}\\n')\n",
    "            f.write('executable = %s\\n' % os.path.realpath(sys.executable))\n",
    "            args = []\n",
    "            nt = os.name == 'nt'\n",
    "            if nt and self.symlinks:\n",
    "                args.append('--symlinks')\n",
    "            if not nt and not self.symlinks:\n",
    "                args.append('--copies')\n",
    "            if not self.with_pip:\n",
    "                args.append('--without-pip')\n",
    "            if self.system_site_packages:\n",
    "                args.append('--system-site-packages')\n",
    "......"
   ]
  },
  {
   "cell_type": "markdown",
   "metadata": {},
   "source": [
    "- - - - `setup_python` function\n",
    "      - `_setup_pip` function\n",
    "        - if no `--without-pip` flag"
   ]
  },
  {
   "cell_type": "raw",
   "metadata": {},
   "source": [
    "def _setup_pip(self, context):\n",
    "        \"\"\"Installs or upgrades pip in a virtual environment\"\"\"\n",
    "        self._call_new_python(context, '-m', 'ensurepip', '--upgrade',\n",
    "                              '--default-pip', stderr=subprocess.STDOUT)"
   ]
  },
  {
   "cell_type": "markdown",
   "metadata": {},
   "source": [
    "- - created files:\n",
    "    - structure\n",
    "      - venv\n",
    "        - `pyvenv.cfg`\n",
    "          - key file for python to recognize the environment\n",
    "          - using `sys` module to check the variables in python/sysmodule.py \n",
    "          - installing will trace internal config of environment variables in modules/getpath.py\n",
    "        - `bin`\n",
    "          - some executable files\n",
    "        - `lib`\n",
    "          - `site-packages`: store the package files\n",
    "        - `include`\n",
    "    - e.g.below "
   ]
  },
  {
   "cell_type": "raw",
   "metadata": {},
   "source": [
    "ls file_env\n",
    "bin\t\tinclude\t\tlib\t\tpyvenv.cfg\n",
    "\n",
    "ls file_env/bin\n",
    "Activate.ps1\tactivate.csh\tpip\t\tpip3.13\t\tpython3\n",
    "activate\tactivate.fish\tpip3\t\tpython\t\tpython3.13\n",
    "\n",
    "ls file_env/include\n",
    "python3.13\n",
    "\n",
    "ls file_env/lib/python3.13/site-packages\n",
    "pip\t\t\tpip-24.2.dist-info\n",
    "\n",
    "ls file_env/lib/python3.13/site-packages/pip\n",
    "__init__.py\t\t__pip-runner__.py\t_internal\t\tpy.typed\n",
    "__main__.py\t\t__pycache__\t\t_vendor\n",
    "\n",
    "nano pyvenv.cfg\n",
    "\n",
    "home = /Library/Frameworks/Python.framework/Versions/3.13/bin\n",
    "include-system-site-packages = false\n",
    "version = 3.13.0\n",
    "executable = /Library/Frameworks/Python.framework/Versions/3.13/bin/python3.13\n",
    "command = /Library/Frameworks/Python.framework/Versions/3.13/bin/python3 -m venv /Users/langxxx/pip_env"
   ]
  },
  {
   "cell_type": "markdown",
   "metadata": {},
   "source": [
    "##### conda"
   ]
  },
  {
   "cell_type": "markdown",
   "metadata": {},
   "source": [
    "- `conda create --name env_name`\n",
    "  - create files:\n",
    "    - `conda-meta`\n",
    "      - `.json`\n",
    "        - generated if installed package using conda install\n",
    "        - no generation if installed package using pip install\n",
    "        - more dependencies than pip\n",
    "      - e.g. below"
   ]
  },
  {
   "cell_type": "raw",
   "metadata": {},
   "source": [
    "{\n",
    "  \"name\": \"pip\",\n",
    "  \"version\": \"25.2\",\n",
    "  \"build\": \"pyh145f28c_0\",\n",
    "  \"build_number\": 0,\n",
    "  \"channel\": \"https://conda.anaconda.org/conda-forge/osx-64\",\n",
    "  \"subdir\": \"noarch\",\n",
    "  \"fn\": \"pip-25.2-pyh145f28c_0.conda\",\n",
    "  \"md5\": \"e7ab34d5a93e0819b62563c78635d937\",\n",
    "  \"url\": \"https://conda.anaconda.org/conda-forge/noarch/pip-25.2-pyh145f28c_0.conda\",\n",
    "  \"sha256\": \"20fe420bb29c7e655988fd0b654888e6d7755c1d380f82ca2f1bd2493b95d650\",\n",
    "  \"depends\": [\n",
    "    \"python >=3.13.0a0\"\n",
    "  ],\n",
    "  \"constrains\": [],\n",
    "  \"noarch\": \"python\",\n",
    "  \"license\": \"MIT\",\n",
    "  \"package_type\": \"noarch_python\",\n",
    "  \"timestamp\": 1753925011000,\n",
    "  \"size\": 1179951,\n",
    "  \"requested_spec\": \"None\",\n",
    "  \"package_tarball_full_path\": \"/opt/anaconda3/pkgs/pip-25.2-pyh145f28c_0.conda\",\n",
    "  \"extracted_package_dir\": \"/opt/anaconda3/pkgs/pip-25.2-pyh145f28c_0\",\n",
    "  \"files\": [\n",
    "    \"lib/python3.13/site-packages/pip-25.2.dist-info/INSTALLER\",\n",
    "    \"lib/python3.13/site-packages/pip-25.2.dist-info/METADATA\",\n"
   ]
  },
  {
   "cell_type": "markdown",
   "metadata": {},
   "source": [
    "###### differences"
   ]
  },
  {
   "cell_type": "markdown",
   "metadata": {},
   "source": [
    "- Prefix and Base prefix"
   ]
  },
  {
   "cell_type": "markdown",
   "metadata": {},
   "source": [
    "- - test `sys` on terminal for pythonenv\n",
    "    - e.g. below"
   ]
  },
  {
   "cell_type": "raw",
   "metadata": {},
   "source": [
    ">>> import sys\n",
    ">>> print(sys.prefix)\n",
    "/Users/langxxx/pip_env\n",
    ">>> print(sys.base_prefix)\n",
    "/Library/Frameworks/Python.framework/Versions/3.13"
   ]
  },
  {
   "cell_type": "markdown",
   "metadata": {},
   "source": [
    "- - test `sys` for conda environment\n",
    "    - e.g. below"
   ]
  },
  {
   "cell_type": "code",
   "execution_count": 5,
   "metadata": {},
   "outputs": [
    {
     "name": "stdout",
     "output_type": "stream",
     "text": [
      "Python version: 3.12.2 | packaged by conda-forge | (main, Feb 16 2024, 21:00:12) [Clang 16.0.6 ]\n",
      "Executable:     /opt/anaconda3/bin/python\n",
      "Prefix:         /opt/anaconda3\n",
      "Base prefix:    /opt/anaconda3\n",
      "In venv?        False\n",
      "Path (imports):\n",
      "   /Users/langyanxia/machine-learning-project/python\n",
      "   /opt/anaconda3/lib/python312.zip\n",
      "   /opt/anaconda3/lib/python3.12\n",
      "   /opt/anaconda3/lib/python3.12/lib-dynload\n",
      "   \n",
      "   /opt/anaconda3/lib/python3.12/site-packages\n",
      "   /opt/anaconda3/lib/python3.12/site-packages/aeosa\n",
      "Platform:       darwin\n",
      "Implementation: namespace(name='cpython', cache_tag='cpython-312', version=sys.version_info(major=3, minor=12, micro=2, releaselevel='final', serial=0), hexversion=51118832, _multiarch='darwin')\n"
     ]
    }
   ],
   "source": [
    "import sys\n",
    "\n",
    "print(\"Python version:\", sys.version)\n",
    "print(\"Executable:    \", sys.executable)\n",
    "print(\"Prefix:        \", sys.prefix)\n",
    "print(\"Base prefix:   \", sys.base_prefix)\n",
    "print(\"In venv?       \", sys.prefix != sys.base_prefix)\n",
    "print(\"Path (imports):\")\n",
    "for p in sys.path:\n",
    "    print(\"  \", p)\n",
    "print(\"Platform:      \", sys.platform)\n",
    "print(\"Implementation:\", sys.implementation)"
   ]
  },
  {
   "cell_type": "markdown",
   "metadata": {},
   "source": [
    "## 2. Modules or Packages"
   ]
  },
  {
   "cell_type": "markdown",
   "metadata": {},
   "source": [
    "### 2.1 Installation"
   ]
  },
  {
   "cell_type": "markdown",
   "metadata": {},
   "source": [
    "#### Official version"
   ]
  },
  {
   "cell_type": "markdown",
   "metadata": {},
   "source": [
    "- termimal:\n",
    "  - pip install package\n",
    "    - for latest version\n",
    "  - pip install package==version\n",
    "    - compatibility:\n",
    "      - various packages for the project may need specifical version due to specifical dependencies\n",
    "      - e.g. function reference between libraries\n",
    "      - otherwise, throw error"
   ]
  },
  {
   "cell_type": "markdown",
   "metadata": {},
   "source": [
    "- workflow:\n",
    "  - connect to PyPI(or another target repository)\n",
    "    - PyPI: the python package index\n",
    "      - official online repository: python packages published and shared\n",
    "      - browse packages: https://pypi.org\n",
    "  - find the target package\n",
    "  - download it and its dependencies\n",
    "    - .whl file: \n",
    "      - Binary package\n",
    "      - ZIP archive including:\n",
    "        - Python code (.py)\n",
    "        - Compiled extensions (.pyd, .so)\n",
    "        - Metadata (METADATA, RECORD, etc.)\n",
    "      - e.g. numpy‑1.25.0‑cp311‑cp311‑win_amd64.whl\n",
    "             - numpy version 1.25.0\n",
    "             - Built for CPython 3.11\n",
    "             - Windows 64-bit\n",
    "      - advantages: \n",
    "        - faster installation:\n",
    "          - fast to install without compile from source \n",
    "        - platform-specific: \n",
    "          - tailored for Windows, macOS, Linux, and specific Python versions\n",
    "        - offline installation: \n",
    "          - download and install without internet access.\n",
    "  - Install it"
   ]
  },
  {
   "cell_type": "markdown",
   "metadata": {},
   "source": [
    "#### Exclusive version from source"
   ]
  },
  {
   "cell_type": "markdown",
   "metadata": {},
   "source": [
    "- build:\n",
    "  - build from source code instead of pre-built version from PyPI\n",
    "    - e.g. github or .tar, .gz, .zip file"
   ]
  },
  {
   "cell_type": "markdown",
   "metadata": {},
   "source": [
    "- advantages:\n",
    "  - latest or unreleased features\n",
    "    - the version onPyPI outdated\n",
    "    - some bugs or compatibility issues fixed but not released\n",
    "  - customization\n",
    "    - fix the source code before installing\n",
    "    - debug or add features\n",
    "  - no pre-build wheels\n",
    "    - no pre-cpmpiled binaries(wheels) for specifical platform\n",
    "    - e.g. torch version supported by some cuda verison\n",
    "  - offline installation\n",
    "    - no internet access "
   ]
  },
  {
   "cell_type": "markdown",
   "metadata": {},
   "source": [
    "- terminal:\n",
    "  - no source code on local:\n",
    "    - pip install git+https://githum.com/user/repo.git\n",
    "    - workflow:\n",
    "      - fetch the repo\n",
    "      - create a temporary directory\n",
    "      - install the package\n",
    "      - clean up: not keep the repo locally \n",
    "    - scenario:\n",
    "      - auto installation\n",
    "        - e.g. in a requirements.txt \n",
    "      - no need to edit or inspect the repo   \n",
    "  - source code download on local\n",
    "    - workflow:\n",
    "      - git clone link\n",
    "        - clones the repo to local \n",
    "      - cd target_folder\n",
    "        - open the local folder \n",
    "      - pip install .\n",
    "        - install the package from the target_folder\n",
    "      - pip install e .\n",
    "        - symbolic link(or .pth file) instead of copied packages into \"site-packages\" directory(the installed location)\n",
    "        - using live code in dev directory\n",
    "        - no reinstall if changing the code\n",
    "        - requirements:\n",
    "          - setup.py or pyproject.toml\n",
    "      - pip install -e .[dev]\n",
    "        - add extra dependencies\n",
    "        - setup.py\n",
    "          - tranditional project\n",
    "          - python script\n",
    "        - pyproject.toml\n",
    "          - modern way for PEP 518/517\n",
    "          - toml config file\n",
    "          - supported by setuptools(>=61), poetry, flit, etc\n",
    "          - pyproject is the primary config if including setup.py and pyproject.toml\n",
    "  - scenario:\n",
    "    - inspect, modify, or debug the code\n",
    "    - contribute or submit a pull request\n",
    "    - a dev or research env\n"
   ]
  },
  {
   "cell_type": "code",
   "execution_count": null,
   "metadata": {},
   "outputs": [],
   "source": [
    "# examples of setup.py\n",
    "from setuptools import setup, find_packages\n",
    "\n",
    "setup(\n",
    "    name='mypackage',\n",
    "    version='0.1.0',\n",
    "    packages=find_packages(),  # Automatically find sub-packages\n",
    "    install_requires=[\n",
    "        'requests',\n",
    "        'numpy>=1.20',\n",
    "    ],\n",
    "    extras_require={\n",
    "        'dev': ['pytest', 'black'],\n",
    "    },\n",
    "    entry_points={\n",
    "        'console_scripts': [\n",
    "            'mycli=mypackage.cli:main',\n",
    "        ],\n",
    "    },\n",
    "    author='Your Name',\n",
    "    description='A sample Python package',\n",
    ")"
   ]
  },
  {
   "cell_type": "raw",
   "metadata": {},
   "source": [
    "# example pyproject.toml \n",
    "\n",
    "# using setuptools\n",
    "\n",
    "[build-system]\n",
    "requires = [\"setuptools>=61.0\", \"wheel\"]\n",
    "build-backend = \"setuptools.build_meta\"\n",
    "\n",
    "[project]\n",
    "name = \"mypackage\"\n",
    "version = \"0.1.0\"\n",
    "description = \"A sample Python package\"\n",
    "authors = [{ name = \"Your Name\" }]\n",
    "dependencies = [\"requests\", \"numpy>=1.20\"]\n",
    "\n",
    "[project.optional-dependencies]\n",
    "dev = [\"pytest\", \"black\"]\n",
    "\n",
    "[project.scripts]\n",
    "mycli = \"mypackage.cli:main\"\n",
    "\n",
    "# using poetry\n",
    "\n",
    "[tool.poetry]\n",
    "name = \"mypackage\"\n",
    "version = \"0.1.0\"\n",
    "description = \"A sample Python package\"\n",
    "authors = [\"Your Name\"]\n",
    "\n",
    "[tool.poetry.dependencies]\n",
    "python = \"^3.9\"\n",
    "requests = \"*\"\n",
    "numpy = \">=1.20\"\n",
    "\n",
    "[tool.poetry.dev-dependencies]\n",
    "pytest = \"^7.0\"\n",
    "black = \"^23.0\""
   ]
  },
  {
   "cell_type": "markdown",
   "metadata": {},
   "source": [
    "#### Understudy for pip"
   ]
  },
  {
   "cell_type": "markdown",
   "metadata": {},
   "source": [
    "##### option1: conda"
   ]
  },
  {
   "cell_type": "markdown",
   "metadata": {},
   "source": [
    "- conda\n",
    "  - [details](python_tool_conda.ipynb)\n",
    "  - conda install package\n",
    "    - workflow:\n",
    "      - find all dependencies of the package\n",
    "      - check for conflicts between current env and new package\n",
    "      - find best compatible version of all dependencies\n",
    "      - install or update package\n",
    "    - strategies for dependencies\n",
    "      - intact environment\n",
    "        - consider all installed package \n",
    "      - cross-language support\n",
    "        - resolve dependencies for C/C++,R,Fortran and python packages\n",
    "      - precompiled binaries\n",
    "        - install compatible, prebuilt binaries to avoid compile-time conflicts \n",
    "      - pinning support\n",
    "        - pin exact version "
   ]
  },
  {
   "cell_type": "markdown",
   "metadata": {},
   "source": [
    "##### option2: poetry"
   ]
  },
  {
   "cell_type": "markdown",
   "metadata": {},
   "source": [
    "- poetry\n",
    "  - poetry add package\n",
    "    - workflow:\n",
    "      - fetch the latest compatible version of the package\n",
    "      - resolve all dependencies and sub-dependencies for the package\n",
    "      - add to pyproject.toml under [tool.poetry.dependencies]\n",
    "      - update poetry.lock with the exact versions and hashes of everything\n",
    "      - install it into poetry-managed virtual environment"
   ]
  },
  {
   "cell_type": "markdown",
   "metadata": {},
   "source": [
    "##### option3: pipenv"
   ]
  },
  {
   "cell_type": "markdown",
   "metadata": {},
   "source": [
    "- pipenv\n",
    "  - pip + virtualenv for dependency and environment management\n",
    "  - pipenv install package"
   ]
  }
 ],
 "metadata": {
  "kernelspec": {
   "display_name": "Python 3 (ipykernel)",
   "language": "python",
   "name": "python3"
  },
  "language_info": {
   "codemirror_mode": {
    "name": "ipython",
    "version": 3
   },
   "file_extension": ".py",
   "mimetype": "text/x-python",
   "name": "python",
   "nbconvert_exporter": "python",
   "pygments_lexer": "ipython3",
   "version": "3.12.2"
  }
 },
 "nbformat": 4,
 "nbformat_minor": 4
}
