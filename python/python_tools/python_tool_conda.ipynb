{
 "cells": [
  {
   "cell_type": "markdown",
   "metadata": {},
   "source": [
    "# Conda"
   ]
  },
  {
   "cell_type": "markdown",
   "metadata": {},
   "source": [
    "## Environment\n",
    "[what it means and how to use it](python_environment.ipynb)"
   ]
  },
  {
   "cell_type": "markdown",
   "metadata": {},
   "source": [
    "### Anaconda\n",
    "- hardware:-macOS -osx-64"
   ]
  },
  {
   "cell_type": "markdown",
   "metadata": {},
   "source": [
    "#### environments"
   ]
  },
  {
   "cell_type": "markdown",
   "metadata": {},
   "source": [
    "- create a environment:\n",
    "  - terminal: `conda create --name ana_env_test`\n",
    "  - e.g. below"
   ]
  },
  {
   "cell_type": "raw",
   "metadata": {},
   "source": [
    "Channels:\n",
    " - conda-forge\n",
    " - defaults\n",
    "Platform: osx-64\n",
    "Collecting package metadata (repodata.json): done\n",
    "Solving environment: done\n",
    "\n",
    "## Package Plan ##\n",
    "\n",
    "  environment location: /opt/anaconda3/envs/ana_env_test\n",
    "\n",
    "\n",
    "\n",
    "Proceed ([y]/n)? y\n",
    "\n",
    "\n",
    "Downloading and Extracting Packages:\n",
    "\n",
    "Preparing transaction: done\n",
    "Verifying transaction: done\n",
    "Executing transaction: done\n",
    "#\n",
    "# To activate this environment, use\n",
    "#\n",
    "#     $ conda activate ana_env_test\n",
    "#\n",
    "# To deactivate an active environment, use\n",
    "#\n",
    "#     $ conda deactivate\n",
    "\n"
   ]
  },
  {
   "cell_type": "markdown",
   "metadata": {},
   "source": [
    "- - not run the cell below\n",
    "    - not access to input\n",
    "    - otherwise, click `stop` "
   ]
  },
  {
   "cell_type": "code",
   "execution_count": 1,
   "metadata": {},
   "outputs": [
    {
     "name": "stdout",
     "output_type": "stream",
     "text": [
      "Channels:\n",
      " - conda-forge\n",
      " - defaults\n",
      "Platform: osx-64\n",
      "Collecting package metadata (repodata.json): done\n",
      "Solving environment: done\n",
      "\n",
      "## Package Plan ##\n",
      "\n",
      "  environment location: /opt/anaconda3/envs/ana_env_test\n",
      "\n",
      "\n",
      "\n",
      "Proceed ([y]/n)? ^C\n",
      "\n",
      "CondaSystemExit: \n",
      "Operation aborted.  Exiting.\n",
      "\n",
      "\n",
      "Note: you may need to restart the kernel to use updated packages.\n"
     ]
    }
   ],
   "source": [
    "conda create --name ana_env_test"
   ]
  },
  {
   "cell_type": "markdown",
   "metadata": {},
   "source": [
    "- activate or switch the environment:\n",
    "  - terminal: `conda activate env`\n",
    "    - e.g. `conda activate ana_env_test`\n",
    "  - do not active or deactivate use cell"
   ]
  },
  {
   "cell_type": "code",
   "execution_count": 3,
   "metadata": {},
   "outputs": [
    {
     "name": "stdout",
     "output_type": "stream",
     "text": [
      "\n",
      "CondaError: Run 'conda init' before 'conda activate'\n",
      "\n",
      "\n",
      "Note: you may need to restart the kernel to use updated packages.\n"
     ]
    }
   ],
   "source": [
    "conda activate ana_env_test"
   ]
  },
  {
   "cell_type": "code",
   "execution_count": 5,
   "metadata": {},
   "outputs": [
    {
     "name": "stdout",
     "output_type": "stream",
     "text": [
      "\n",
      "CondaError: Run 'conda init' before 'conda deactivate'\n",
      "\n",
      "\n",
      "Note: you may need to restart the kernel to use updated packages.\n"
     ]
    }
   ],
   "source": [
    "conda deactivate"
   ]
  },
  {
   "cell_type": "markdown",
   "metadata": {},
   "source": [
    "-  - if env is unknown, check the env list first:\n",
    "    - `conda env list` or `conda info --envs`"
   ]
  },
  {
   "cell_type": "code",
   "execution_count": 15,
   "metadata": {},
   "outputs": [
    {
     "name": "stdout",
     "output_type": "stream",
     "text": [
      "\n",
      "# conda environments:\n",
      "#\n",
      "base                 * /opt/anaconda3\n",
      "\n",
      "\n",
      "Note: you may need to restart the kernel to use updated packages.\n"
     ]
    }
   ],
   "source": [
    "conda env list"
   ]
  },
  {
   "cell_type": "code",
   "execution_count": 19,
   "metadata": {},
   "outputs": [
    {
     "name": "stdout",
     "output_type": "stream",
     "text": [
      "\n",
      "# conda environments:\n",
      "#\n",
      "base                 * /opt/anaconda3\n",
      "\n",
      "\n",
      "Note: you may need to restart the kernel to use updated packages.\n"
     ]
    }
   ],
   "source": [
    "conda info --envs"
   ]
  },
  {
   "cell_type": "markdown",
   "metadata": {},
   "source": [
    "- check current active environment\n",
    "  - terminal: `conda info`\n",
    "  - e.g. below"
   ]
  },
  {
   "cell_type": "raw",
   "metadata": {},
   "source": [
    "\n",
    "     active environment : base\n",
    "    active env location : /opt/anaconda3\n",
    "    ...\n",
    "               platform : osx-64\n",
    "          \n"
   ]
  },
  {
   "cell_type": "markdown",
   "metadata": {},
   "source": [
    "- check default environment\n",
    "  - terminal: `echo $CONDA_DEFAULT_ENV`\n",
    "  - e.g. below"
   ]
  },
  {
   "cell_type": "raw",
   "metadata": {},
   "source": [
    "base"
   ]
  },
  {
   "cell_type": "markdown",
   "metadata": {},
   "source": [
    "- - or run the cell below"
   ]
  },
  {
   "cell_type": "code",
   "execution_count": 1,
   "metadata": {},
   "outputs": [
    {
     "name": "stdout",
     "output_type": "stream",
     "text": [
      "base\n"
     ]
    }
   ],
   "source": [
    "!echo $CONDA_DEFAULT_ENV"
   ]
  },
  {
   "cell_type": "markdown",
   "metadata": {},
   "source": [
    "#### channels"
   ]
  },
  {
   "cell_type": "markdown",
   "metadata": {},
   "source": [
    "- check channel:\n",
    "  - terminal: `conda config --show channels`\n",
    "  - e.g. below"
   ]
  },
  {
   "cell_type": "raw",
   "metadata": {},
   "source": [
    "channels:\n",
    "  - defaults"
   ]
  },
  {
   "cell_type": "markdown",
   "metadata": {},
   "source": [
    "- add channel:\n",
    "   - terminal: `conda config --add channels conda-forge`\n",
    "   - check channel\n",
    "     - success like below"
   ]
  },
  {
   "cell_type": "raw",
   "metadata": {},
   "source": [
    "channels:\n",
    "  - conda-forge\n",
    "  - defaults"
   ]
  },
  {
   "cell_type": "markdown",
   "metadata": {},
   "source": [
    "- - - or run the cell below"
   ]
  },
  {
   "cell_type": "code",
   "execution_count": 27,
   "metadata": {},
   "outputs": [
    {
     "name": "stdout",
     "output_type": "stream",
     "text": [
      "channels:\n",
      "  - conda-forge\n",
      "  - defaults\n",
      "\n",
      "Note: you may need to restart the kernel to use updated packages.\n"
     ]
    }
   ],
   "source": [
    "conda config --show channels"
   ]
  },
  {
   "cell_type": "markdown",
   "metadata": {},
   "source": [
    "#### packages"
   ]
  },
  {
   "cell_type": "markdown",
   "metadata": {},
   "source": [
    "- install the package\n",
    "  - terminal: `conda install -c conda-forge name`\n",
    "  - e.g. `conda install -c conda-forge xeus-cling --update-deps`\n",
    "  - e.g. below"
   ]
  },
  {
   "cell_type": "raw",
   "metadata": {},
   "source": [
    "Channels:\n",
    " - conda-forge\n",
    " - defaults\n",
    "Platform: osx-64\n",
    "Collecting package metadata (repodata.json): done\n",
    "Solving environment: - Channels:\n",
    " - conda-forge\n",
    " - defaults\n",
    "Platform: osx-64\n",
    "Collecting package metadata (repodata.json)| done\n",
    "Solving environment: done\n",
    "done\n",
    "\n",
    "## Package Plan ##\n",
    "\n",
    "  environment location: /opt/anaconda3\n",
    "\n",
    "  added / updated specs:\n",
    "    - xeus-cling\n",
    "\n",
    "\n",
    "The following packages will be downloaded:\n",
    "\n",
    "    package                    |            build\n",
    "    ---------------------------|-----------------\n",
    "    cryptopp-8.9.0             |       h73e2aa4_1         1.8 MB  conda-forge\n",
    "    gettext-0.25.1             |       he52a196_1         531 KB  conda-forge\n",
    "    gettext-tools-0.25.1       |       h3184127_1         3.5 MB  conda-forge\n",
    "    icu-73.2                   |       hf5e326d_0        11.2 MB  conda-forge\n",
    "    libarchive-3.7.4           |       h20e244c_0         725 KB  conda-forge\n",
    "    libasprintf-0.25.1         |       h3184127_1          51 KB  conda-forge\n",
    "    libasprintf-devel-0.25.1   |       h3184127_1          34 KB  conda-forge\n",
    "    libcxx-21.1.0              |       h3d58e20_1         559 KB  conda-forge\n",
    "........."
   ]
  },
  {
   "cell_type": "markdown",
   "metadata": {},
   "source": [
    "- - or run the cell like below"
   ]
  },
  {
   "cell_type": "code",
   "execution_count": 8,
   "metadata": {},
   "outputs": [
    {
     "name": "stdout",
     "output_type": "stream",
     "text": [
      "Channels:\n",
      " - conda-forge\n",
      " - defaults\n",
      "Platform: osx-64\n",
      "Collecting package metadata (repodata.json): done\n",
      "Solving environment: failed\n",
      "\n",
      "PackagesNotFoundError: The following packages are not available from current channels:\n",
      "\n",
      "  - jupyter-c-kernel\n",
      "\n",
      "Current channels:\n",
      "\n",
      "  - https://conda.anaconda.org/conda-forge\n",
      "  - defaults\n",
      "\n",
      "To search for alternate channels that may provide the conda package you're\n",
      "looking for, navigate to\n",
      "\n",
      "    https://anaconda.org\n",
      "\n",
      "and use the search bar at the top of the page.\n",
      "\n",
      "\n",
      "\n",
      "Note: you may need to restart the kernel to use updated packages.\n"
     ]
    }
   ],
   "source": [
    "conda install -c conda-forge jupyter-c-kernel"
   ]
  },
  {
   "cell_type": "markdown",
   "metadata": {},
   "source": [
    "- search the package:\n",
    "  - terminal: `conda search -c conda-forge name`\n",
    "  - e.g. `conda search xeus-cling --info`\n",
    "  - e.g. below"
   ]
  },
  {
   "cell_type": "raw",
   "metadata": {},
   "source": [
    "Loading channels: done\n",
    "xeus-cling 0.4.10 h5c9b4e4_0\n",
    "----------------------------\n",
    "file name   : xeus-cling-0.4.10-h5c9b4e4_0.tar.bz2\n",
    "name        : xeus-cling\n",
    "version     : 0.4.10\n",
    "build       : h5c9b4e4_0\n",
    "build number: 0\n",
    "size        : 14.4 MB\n",
    "license     : BSD-3-Clause\n",
    "subdir      : osx-64\n",
    "url         : https://conda.anaconda.org/conda-forge/osx-64/xeus-cling-0.4.10-h5c9b4e4_0.tar.bz2\n",
    "md5         : f8de9d19e968acec6df4a98907a4fd88\n",
    "timestamp   : 2018-12-21 20:11:41 UTC\n",
    "dependencies: \n",
    "  - cling >=0.5,<0.6.0a0\n",
    "  - cppzmq >=4.3.0,<4.3.1.0a0\n",
    "  - libcxx >=4.0.1\n",
    "  - nlohmann_json >=3.4.0,<3.4.1.0a0\n",
    "  - xeus >=0.18.1,<0.19.0a0\n",
    "  - xtl >=0.5.2,<0.5.3.0a0\n",
    "  - zeromq\n",
    "  - zlib >=1.2.11,<1.3.0a0\n",
    "...."
   ]
  },
  {
   "cell_type": "markdown",
   "metadata": {},
   "source": [
    "- - or run the cell like below"
   ]
  },
  {
   "cell_type": "code",
   "execution_count": 10,
   "metadata": {},
   "outputs": [
    {
     "name": "stdout",
     "output_type": "stream",
     "text": [
      "Loading channels: done\n",
      "No match found for: jupyter-c-kernel. Search: *jupyter-c-kernel*\n",
      "\n",
      "PackagesNotFoundError: The following packages are not available from current channels:\n",
      "\n",
      "  - jupyter-c-kernel\n",
      "\n",
      "Current channels:\n",
      "\n",
      "  - https://conda.anaconda.org/conda-forge/osx-64\n",
      "  - https://conda.anaconda.org/conda-forge/noarch\n",
      "  - https://repo.anaconda.com/pkgs/main/osx-64\n",
      "  - https://repo.anaconda.com/pkgs/main/noarch\n",
      "  - https://repo.anaconda.com/pkgs/r/osx-64\n",
      "  - https://repo.anaconda.com/pkgs/r/noarch\n",
      "\n",
      "To search for alternate channels that may provide the conda package you're\n",
      "looking for, navigate to\n",
      "\n",
      "    https://anaconda.org\n",
      "\n",
      "and use the search bar at the top of the page.\n",
      "\n",
      "\n",
      "\n",
      "Note: you may need to restart the kernel to use updated packages.\n"
     ]
    }
   ],
   "source": [
    "conda search -c conda-forge jupyter-c-kernel"
   ]
  },
  {
   "cell_type": "markdown",
   "metadata": {},
   "source": [
    "- check installed packages:\n",
    "  - terminal: `conda list`\n",
    "  - e.g.below "
   ]
  },
  {
   "cell_type": "raw",
   "metadata": {},
   "source": [
    "# packages in environment at /opt/anaconda3:\n",
    "#\n",
    "# Name                           Version             Build                  Channel\n",
    "_anaconda_depends                2024.06             py312_openblas_2\n",
    "abseil-cpp                       20230802.0          h61975a4_2\n",
    "aext-assistant                   4.0.15              py312hecd8cb5_jl4_0\n",
    "aext-assistant-server            4.0.15              py312hecd8cb5_0\n",
    "aext-core                        4.0.15              py312hecd8cb5_jl4_0\n",
    "....."
   ]
  },
  {
   "cell_type": "markdown",
   "metadata": {},
   "source": [
    "- - for specific package:\n",
    "    - terminal: `conda list xeus-cling` or 'conda list | grep xeus-cling'\n",
    "    - run the cell below "
   ]
  },
  {
   "cell_type": "code",
   "execution_count": 12,
   "metadata": {},
   "outputs": [
    {
     "name": "stdout",
     "output_type": "stream",
     "text": [
      "# packages in environment at /opt/anaconda3:\n",
      "#\n",
      "# Name                     Version          Build            Channel\n",
      "xeus-cling                 0.15.0           h07d71dc_0       conda-forge\n",
      "\n",
      "Note: you may need to restart the kernel to use updated packages.\n"
     ]
    }
   ],
   "source": [
    "conda list xeus-cling"
   ]
  },
  {
   "cell_type": "code",
   "execution_count": 3,
   "metadata": {},
   "outputs": [
    {
     "name": "stdout",
     "output_type": "stream",
     "text": [
      "/opt/anaconda3/bin/python\n"
     ]
    }
   ],
   "source": [
    "!which python"
   ]
  },
  {
   "cell_type": "code",
   "execution_count": 5,
   "metadata": {},
   "outputs": [
    {
     "name": "stdout",
     "output_type": "stream",
     "text": [
      "Python 3.12.2\n"
     ]
    }
   ],
   "source": [
    "!python --version"
   ]
  },
  {
   "cell_type": "code",
   "execution_count": null,
   "metadata": {},
   "outputs": [],
   "source": []
  }
 ],
 "metadata": {
  "kernelspec": {
   "display_name": "Python 3 (ipykernel)",
   "language": "python",
   "name": "python3"
  },
  "language_info": {
   "codemirror_mode": {
    "name": "ipython",
    "version": 3
   },
   "file_extension": ".py",
   "mimetype": "text/x-python",
   "name": "python",
   "nbconvert_exporter": "python",
   "pygments_lexer": "ipython3",
   "version": "3.12.2"
  }
 },
 "nbformat": 4,
 "nbformat_minor": 4
}
