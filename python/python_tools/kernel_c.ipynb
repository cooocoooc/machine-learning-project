{
 "cells": [
  {
   "cell_type": "markdown",
   "metadata": {},
   "source": [
    "# C kernel\n",
    "  - `!` dangerous : if `restart kernel and run all cells`"
   ]
  },
  {
   "cell_type": "markdown",
   "metadata": {},
   "source": [
    "## Anaconda"
   ]
  },
  {
   "cell_type": "markdown",
   "metadata": {
    "jp-MarkdownHeadingCollapsed": true
   },
   "source": [
    "### Environment \n",
    "[view current environment](kernels.ipynb)"
   ]
  },
  {
   "cell_type": "markdown",
   "metadata": {},
   "source": [
    "### Check the current kernels\n",
    "  - ternimal: `jupyter kernelspec list`"
   ]
  },
  {
   "cell_type": "raw",
   "metadata": {},
   "source": [
    "    Available kernels:\n",
    "  python3    /opt/anaconda3/share/jupyter/kernels/python3"
   ]
  },
  {
   "cell_type": "markdown",
   "metadata": {},
   "source": [
    "  - or run the cell below:\n",
    "    - select the python kernel"
   ]
  },
  {
   "cell_type": "code",
   "execution_count": 16,
   "metadata": {},
   "outputs": [
    {
     "name": "stdout",
     "output_type": "stream",
     "text": [
      "0.00s - Debugger warning: It seems that frozen modules are being used, which may\n",
      "0.00s - make the debugger miss breakpoints. Please pass -Xfrozen_modules=off\n",
      "0.00s - to python to disable frozen modules.\n",
      "0.00s - Note: Debugging will proceed. Set PYDEVD_DISABLE_FILE_VALIDATION=1 to disable this validation.\n",
      "Available kernels:\n",
      "  c          /opt/anaconda3/share/jupyter/kernels/c\n",
      "  python3    /opt/anaconda3/share/jupyter/kernels/python3\n",
      "  sos        /opt/anaconda3/share/jupyter/kernels/sos\n"
     ]
    }
   ],
   "source": [
    "! jupyter kernelspec list"
   ]
  },
  {
   "cell_type": "markdown",
   "metadata": {},
   "source": [
    "### jupyter_c_kernel\n",
    "- link: https://github.com/brendan-rius/jupyter-c-kernel/blob/master/README.md\n",
    "- configuration of `kernel.json`"
   ]
  },
  {
   "cell_type": "raw",
   "metadata": {},
   "source": [
    "{\"argv\": [\"python3\", \"-m\", \"jupyter_c_kernel\", \"-f\", \"{connection_file}\"], \"display_name\": \"C\", \"language\": \"c\"}"
   ]
  },
  {
   "cell_type": "markdown",
   "metadata": {},
   "source": [
    "#### Install c kernel\n",
    " - if c kernel is not under the avaliable kernels list"
   ]
  },
  {
   "cell_type": "markdown",
   "metadata": {},
   "source": [
    "##### ~~install from conda channel~~\n",
    "- terminal: ~~`conda install -c conda-forge jupyter-c-kernel`~~"
   ]
  },
  {
   "cell_type": "raw",
   "metadata": {},
   "source": [
    "Retrieving notices: ...working... done\n",
    "Channels:\n",
    " - conda-forge\n",
    " - defaults\n",
    "Platform: osx-64\n",
    "Collecting package metadata (repodata.json): done\n",
    "Solving environment: failed\n",
    "\n",
    "PackagesNotFoundError: The following packages are not available from current channels:\n",
    "\n",
    "  - jupyter-c-kernel\n",
    "\n",
    "Current channels:\n",
    "\n",
    "  - https://conda.anaconda.org/conda-forge\n",
    "  - defaults\n",
    "\n",
    "To search for alternate channels that may provide the conda package you're\n",
    "looking for, navigate to\n",
    "\n",
    "    https://anaconda.org\n",
    "\n",
    "and use the search bar at the top of the page.\n",
    "\n"
   ]
  },
  {
   "cell_type": "markdown",
   "metadata": {},
   "source": [
    "- or run the cell below: using python kernel"
   ]
  },
  {
   "cell_type": "code",
   "execution_count": 26,
   "metadata": {},
   "outputs": [
    {
     "name": "stdout",
     "output_type": "stream",
     "text": [
      "Channels:\n",
      " - conda-forge\n",
      " - defaults\n",
      "Platform: osx-64\n",
      "Collecting package metadata (repodata.json): done\n",
      "Solving environment: failed\n",
      "\n",
      "PackagesNotFoundError: The following packages are not available from current channels:\n",
      "\n",
      "  - jupyter-c-kernel\n",
      "\n",
      "Current channels:\n",
      "\n",
      "  - https://conda.anaconda.org/conda-forge\n",
      "  - defaults\n",
      "\n",
      "To search for alternate channels that may provide the conda package you're\n",
      "looking for, navigate to\n",
      "\n",
      "    https://anaconda.org\n",
      "\n",
      "and use the search bar at the top of the page.\n",
      "\n",
      "\n",
      "\n",
      "Note: you may need to restart the kernel to use updated packages.\n"
     ]
    }
   ],
   "source": [
    "conda install -c conda-forge jupyter-c-kernel"
   ]
  },
  {
   "cell_type": "markdown",
   "metadata": {},
   "source": [
    "- search the package:\n",
    "  - ternimal: `conda search -c conda-forge jupyter-c-kernel`"
   ]
  },
  {
   "cell_type": "raw",
   "metadata": {},
   "source": [
    "No match found for: jupyter-c-kernel. Search: *jupyter-c-kernel*\n",
    "\n",
    "PackagesNotFoundError: The following packages are not available from current channels:\n",
    "\n",
    "  - jupyter-c-kernel\n",
    "\n",
    "Current channels:\n",
    "\n",
    "  - https://conda.anaconda.org/conda-forge/osx-64\n",
    "  - https://conda.anaconda.org/conda-forge/noarch\n",
    "  - https://repo.anaconda.com/pkgs/main/osx-64\n",
    "  - https://repo.anaconda.com/pkgs/main/noarch\n",
    "  - https://repo.anaconda.com/pkgs/r/osx-64\n",
    "  - https://repo.anaconda.com/pkgs/r/noarch\n",
    "\n",
    "To search for alternate channels that may provide the conda package you're\n",
    "looking for, navigate to\n",
    "\n",
    "    https://anaconda.org\n",
    "\n",
    "and use the search bar at the top of the page.\n",
    "\n"
   ]
  },
  {
   "cell_type": "markdown",
   "metadata": {},
   "source": [
    "##### install from pip"
   ]
  },
  {
   "cell_type": "markdown",
   "metadata": {},
   "source": [
    "- install jupyter_c_kernel\n",
    "  - terminal: `pip install jupyter_c_kernel`\n",
    "  - check if success\n",
    "    - terminal: `conda list jupyter`"
   ]
  },
  {
   "cell_type": "raw",
   "metadata": {},
   "source": [
    "# packages in environment at /opt/anaconda3:\n",
    "#\n",
    "# Name                    Version                   Build  Channel\n",
    "jupyter                   1.0.0           py312hecd8cb5_9  \n",
    "jupyter-c-kernel          1.2.2                    pypi_0    pypi\n",
    "jupyter-lsp               2.2.0           py312hecd8cb5_0  \n",
    "jupyter_client            8.6.0           py312hecd8cb5_0  \n",
    "jupyter_console           6.6.3           py312hecd8cb5_1  \n",
    "jupyter_core              5.7.2           py312hecd8cb5_0  \n",
    "jupyter_events            0.10.0          py312hecd8cb5_0  \n",
    "jupyter_server            2.14.1          py312hecd8cb5_0  \n",
    "jupyter_server_terminals  0.4.4           py312hecd8cb5_1  \n",
    "jupyterlab                4.0.11          py312hecd8cb5_0  \n",
    "jupyterlab-variableinspector 3.1.0           py312hecd8cb5_0  \n",
    "jupyterlab_pygments       0.1.2                      py_0  \n",
    "jupyterlab_server         2.25.1          py312hecd8cb5_0  \n",
    "jupyterlab_widgets        1.0.0              pyhd3eb1b0_1 "
   ]
  },
  {
   "cell_type": "markdown",
   "metadata": {},
   "source": [
    "- - - terminal: `pip show jupyter-c-kernel`"
   ]
  },
  {
   "cell_type": "raw",
   "metadata": {},
   "source": [
    "Name: jupyter_c_kernel\n",
    "Version: 1.2.2\n",
    "Summary: Minimalistic C kernel for Jupyter\n",
    "Home-page: https://github.com/brendanrius/jupyter-c-kernel/\n",
    "Author: Brendan Rius\n",
    "Author-email: ping@brendan-rius.com\n",
    "License: \n",
    "Location: /opt/anaconda3/lib/python3.12/site-packages\n",
    "Requires: \n",
    "Required-by: "
   ]
  },
  {
   "cell_type": "markdown",
   "metadata": {},
   "source": [
    "-  -  - it installed successfully\n",
    "      - but the c kernel can not be selected!"
   ]
  },
  {
   "cell_type": "markdown",
   "metadata": {},
   "source": [
    "- register the jupyter_c_kernel with jupyter\n",
    "  - terminal: ~~python -m jupyter_c_kernel.install~~\n",
    "  - -> error: `/opt/anaconda3/bin/python: No module named jupyter_c_kernel.install`\n",
    "     - check python: \n",
    "       - terminal: `which python`"
   ]
  },
  {
   "cell_type": "raw",
   "metadata": {},
   "source": [
    "/opt/anaconda3/bin/python"
   ]
  },
  {
   "cell_type": "markdown",
   "metadata": {},
   "source": [
    " - - or run the cell below: using python kernel\n",
    "     - add an example: syntax error casued by `!` "
   ]
  },
  {
   "cell_type": "code",
   "execution_count": 9,
   "metadata": {},
   "outputs": [
    {
     "ename": "SyntaxError",
     "evalue": "invalid syntax (469259880.py, line 1)",
     "output_type": "error",
     "traceback": [
      "\u001b[0;36m  Cell \u001b[0;32mIn[9], line 1\u001b[0;36m\u001b[0m\n\u001b[0;31m    python -m jupyter_c_kernel.install\u001b[0m\n\u001b[0m              ^\u001b[0m\n\u001b[0;31mSyntaxError\u001b[0m\u001b[0;31m:\u001b[0m invalid syntax\n"
     ]
    }
   ],
   "source": [
    "python -m jupyter_c_kernel.install"
   ]
  },
  {
   "cell_type": "code",
   "execution_count": 11,
   "metadata": {},
   "outputs": [
    {
     "name": "stdout",
     "output_type": "stream",
     "text": [
      "/opt/anaconda3/bin/python: No module named jupyter_c_kernel.install\n"
     ]
    }
   ],
   "source": [
    "! python -m jupyter_c_kernel.install"
   ]
  },
  {
   "cell_type": "markdown",
   "metadata": {},
   "source": [
    "- - - check the file if under jupyter_c_kernel\n",
    "      - terminal: `ls /opt/anaconda3/lib/python3.12/site-packages/jupyter_c_kernel`\n"
   ]
  },
  {
   "cell_type": "raw",
   "metadata": {},
   "source": [
    "_init__.py\t\t__pycache__\t\tkernel.py\n",
    "__main__.py\t\tinstall_c_kernel\tresources"
   ]
  },
  {
   "cell_type": "markdown",
   "metadata": {},
   "source": [
    "- - terminal: ~~`cd /opt/anaconda3/lib/python3.12/site-packages/jupyter_c_kernel`~~\n",
    "    - terminal: ~~`python -m install_c_kernel`~~\n",
    "      - cause: failed, python based under where it is rather than the current path "
   ]
  },
  {
   "cell_type": "raw",
   "metadata": {},
   "source": [
    "/opt/anaconda3/bin/python: No module named install_c_kernel"
   ]
  },
  {
   "cell_type": "markdown",
   "metadata": {},
   "source": [
    "- - may be install mistake ? acturally not !\n",
    "  - -> ~~uninstall~~:\n",
    "       - terminal: `pip uninstall jupyter_c_kernel` "
   ]
  },
  {
   "cell_type": "raw",
   "metadata": {},
   "source": [
    "Found existing installation: jupyter_c_kernel 1.2.2\n",
    "Uninstalling jupyter_c_kernel-1.2.2:\n",
    "  Would remove:\n",
    "    /opt/anaconda3/bin/install_c_kernel\n",
    "    /opt/anaconda3/lib/python3.12/site-packages/jupyter_c_kernel-1.2.2.dist-info/*\n",
    "    /opt/anaconda3/lib/python3.12/site-packages/jupyter_c_kernel/*\n",
    "Proceed (Y/n)? n   "
   ]
  },
  {
   "cell_type": "markdown",
   "metadata": {},
   "source": [
    "- - the inconsistence of the package path:\n",
    "  - `env/bin`: executable files & CLI scripts\n",
    "     - for mac, linux\n",
    "     - e.g. python, jupyter-notebook\n",
    "  - `site-packages`: installed package file, e.g. .dist-info \n",
    "     - `import parckage` "
   ]
  },
  {
   "cell_type": "code",
   "execution_count": 1,
   "metadata": {},
   "outputs": [
    {
     "name": "stdout",
     "output_type": "stream",
     "text": [
      "/opt/anaconda3/lib/python3.12/site-packages/jupyter_c_kernel/__init__.py\n"
     ]
    }
   ],
   "source": [
    "import jupyter_c_kernel\n",
    "print(jupyter_c_kernel.__file__)"
   ]
  },
  {
   "cell_type": "markdown",
   "metadata": {},
   "source": [
    "- - terminal: ~~python /opt/anaconda3/bin/install_c_kernel~~\n",
    "    - -> error: PermissionError: [Errno 13] Permission denied: '/usr/local/share/jupyter'\n",
    "       - cause: KernelSpecManager().install_kernel_spec(td, 'c', user=user, replace=True, prefix=prefix)\n",
    "       - default: under the user\n"
   ]
  },
  {
   "cell_type": "raw",
   "metadata": {},
   "source": [
    "Installing IPython kernel spec\n",
    "/opt/anaconda3/bin/install_c_kernel:32: DeprecationWarning: replace is ignored. Installing a kernelspec always replaces an existing installation\n",
    "  KernelSpecManager().install_kernel_spec(td, 'c', user=user, replace=True, prefix=prefix)\n",
    "Traceback (most recent call last):\n",
    "  File \"/opt/anaconda3/bin/install_c_kernel\", line 81, in <module>\n",
    "    main(argv=sys.argv)\n",
    "  File \"/opt/anaconda3/bin/install_c_kernel\", line 77, in main\n",
    "    install_my_kernel_spec(user=user, prefix=prefix)\n",
    "  File \"/opt/anaconda3/bin/install_c_kernel\", line 32, in install_my_kernel_spec\n",
    "    KernelSpecManager().install_kernel_spec(td, 'c', user=user, replace=True, prefix=prefix)\n",
    "  File \"/opt/anaconda3/lib/python3.12/site-packages/jupyter_client/kernelspec.py\", line 406, in install_kernel_spec\n",
    "    shutil.copytree(source_dir, destination)\n",
    "  File \"/opt/anaconda3/lib/python3.12/shutil.py\", line 600, in copytree\n",
    "    return _copytree(entries=entries, src=src, dst=dst, symlinks=symlinks,\n",
    "           ^^^^^^^^^^^^^^^^^^^^^^^^^^^^^^^^^^^^^^^^^^^^^^^^^^^^^^^^^^^^^^^\n",
    "  File \"/opt/anaconda3/lib/python3.12/shutil.py\", line 498, in _copytree\n",
    "    os.makedirs(dst, exist_ok=dirs_exist_ok)\n",
    "  File \"<frozen os>\", line 215, in makedirs\n",
    "  File \"<frozen os>\", line 215, in makedirs\n",
    "  File \"<frozen os>\", line 225, in makedirs\n",
    "PermissionError: [Errno 13] Permission denied: '/usr/local/share/jupyter'"
   ]
  },
  {
   "cell_type": "markdown",
   "metadata": {},
   "source": [
    "- - terminal: `python /opt/anaconda3/bin/install_c_kernel --prefix=/opt/anaconda3`     \n",
    "    - '--prefix': custom a directory\n",
    "    - terminal: `ls /opt/anaconda3/share/jupyter/kernels/`\n",
    "      - generate the link folder success!"
   ]
  },
  {
   "cell_type": "raw",
   "metadata": {},
   "source": [
    "c\n",
    "python3"
   ]
  },
  {
   "cell_type": "markdown",
   "metadata": {},
   "source": [
    "- - - check the registration of the c kernel: run one of the cells below using python kernel"
   ]
  },
  {
   "cell_type": "code",
   "execution_count": null,
   "metadata": {},
   "outputs": [],
   "source": [
    "! /opt/anaconda3/bin/jupyter kernelspec list"
   ]
  },
  {
   "cell_type": "code",
   "execution_count": 11,
   "metadata": {},
   "outputs": [
    {
     "name": "stdout",
     "output_type": "stream",
     "text": [
      "0.00s - Debugger warning: It seems that frozen modules are being used, which may\n",
      "0.00s - make the debugger miss breakpoints. Please pass -Xfrozen_modules=off\n",
      "0.00s - to python to disable frozen modules.\n",
      "0.00s - Note: Debugging will proceed. Set PYDEVD_DISABLE_FILE_VALIDATION=1 to disable this validation.\n",
      "Available kernels:\n",
      "  c                   /opt/anaconda3/share/jupyter/kernels/c\n",
      "  python3             /opt/anaconda3/share/jupyter/kernels/python3\n",
      "  xeus-cling-cpp11    /opt/anaconda3/share/jupyter/kernels/xeus-cling-cpp11\n",
      "  xeus-cling-cpp14    /opt/anaconda3/share/jupyter/kernels/xeus-cling-cpp14\n",
      "  xeus-cling-cpp17    /opt/anaconda3/share/jupyter/kernels/xeus-cling-cpp17\n"
     ]
    }
   ],
   "source": [
    "! jupyter kernelspec list"
   ]
  },
  {
   "cell_type": "markdown",
   "metadata": {},
   "source": [
    "#### using c kernel"
   ]
  },
  {
   "cell_type": "markdown",
   "metadata": {},
   "source": [
    "- select the c from the right-up corner"
   ]
  },
  {
   "cell_type": "code",
   "execution_count": 1,
   "metadata": {},
   "outputs": [
    {
     "name": "stdout",
     "output_type": "stream",
     "text": [
      "Hello from C!\n"
     ]
    }
   ],
   "source": [
    "#include <stdio.h>\n",
    "\n",
    "void say_hello() {\n",
    "    printf(\"Hello from C!\\n\");\n",
    "}\n",
    "\n",
    "int main() {\n",
    "    say_hello();\n",
    "    return 0;\n",
    "}\n"
   ]
  },
  {
   "cell_type": "code",
   "execution_count": 45,
   "metadata": {},
   "outputs": [
    {
     "name": "stderr",
     "output_type": "stream",
     "text": [
      "/var/folders/jw/23mrncyx0jjdlk_xt9gvldfc0000gn/T/tmpv3skgral.out: dlsym(0x7ff90f4a4210, main): symbol not found\n",
      "[C kernel] Executable exited with code 1"
     ]
    }
   ],
   "source": [
    "\n",
    "#include <stdio.h>\n",
    "\n",
    "void say_hello() {\n",
    "    printf(\"Hello from C!\\n\");\n",
    "}\n",
    "\n",
    "//must use main function"
   ]
  },
  {
   "cell_type": "code",
   "execution_count": 51,
   "metadata": {},
   "outputs": [
    {
     "name": "stderr",
     "output_type": "stream",
     "text": [
      "/var/folders/jw/23mrncyx0jjdlk_xt9gvldfc0000gn/T/tmpjgcqfk3l.c:3:5: error: call to undeclared function 'say_hello'; ISO C99 and later do not support implicit function declarations [-Wimplicit-function-declaration]\n",
      "    say_hello();\n",
      "    ^\n",
      "1 error generated.\n",
      "[C kernel] GCC exited with code 1, the executable will not be executed"
     ]
    }
   ],
   "source": [
    "#include <stdio.h>\n",
    "int main() {\n",
    "    say_hello();\n",
    "    return 0;\n",
    "}\n",
    "// cannot call function from other cell"
   ]
  },
  {
   "cell_type": "markdown",
   "metadata": {},
   "source": [
    "- - not support magic like below"
   ]
  },
  {
   "cell_type": "code",
   "execution_count": 19,
   "metadata": {},
   "outputs": [
    {
     "name": "stderr",
     "output_type": "stream",
     "text": [
      "/var/folders/jw/23mrncyx0jjdlk_xt9gvldfc0000gn/T/tmp3bagoac7.c:1:1: error: expected identifier or '('\n",
      "! jupyter kernelspec list\n",
      "^\n",
      "1 error generated.\n",
      "[C kernel] GCC exited with code 1, the executable will not be executed"
     ]
    }
   ],
   "source": [
    "! jupyter kernelspec list"
   ]
  }
 ],
 "metadata": {
  "kernelspec": {
   "display_name": "C",
   "language": "c",
   "name": "c"
  },
  "language_info": {
   "file_extension": ".c",
   "mimetype": "text/plain",
   "name": "c"
  }
 },
 "nbformat": 4,
 "nbformat_minor": 4
}
