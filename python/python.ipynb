{
 "cells": [
  {
   "cell_type": "markdown",
   "id": "d354ba03-238d-4d04-8b19-21a325313f1c",
   "metadata": {},
   "source": [
    "# Python Function"
   ]
  },
  {
   "cell_type": "markdown",
   "id": "74fb127d-5bb6-452c-bfd4-d9b5b48cc50e",
   "metadata": {},
   "source": [
    "## install module"
   ]
  },
  {
   "cell_type": "code",
   "execution_count": 3,
   "id": "1750114b-4d2d-4da2-a86a-3f46166a434f",
   "metadata": {},
   "outputs": [
    {
     "name": "stdout",
     "output_type": "stream",
     "text": [
      "Requirement already satisfied: numpy in /opt/anaconda3/lib/python3.12/site-packages (1.26.4)\n",
      "Note: you may need to restart the kernel to use updated packages.\n"
     ]
    }
   ],
   "source": [
    "pip install numpy"
   ]
  },
  {
   "cell_type": "markdown",
   "id": "963e257c-b820-45b5-a668-c05ea588cf67",
   "metadata": {},
   "source": [
    "## comments\n",
    "- the explanation of code = readable for human\n",
    "- disable code during testing temporarily"
   ]
  },
  {
   "cell_type": "markdown",
   "id": "d088cf03-7b30-4ce7-92fe-65c990400d7e",
   "metadata": {},
   "source": [
    "### single comment"
   ]
  },
  {
   "cell_type": "code",
   "execution_count": 6,
   "id": "34556435-a757-4ad4-877d-381b21fecbf7",
   "metadata": {},
   "outputs": [],
   "source": [
    "# start with the hash \"#\" symbol on each line\n",
    "# real comments,the content after \"#\" will be ignored by python "
   ]
  },
  {
   "cell_type": "markdown",
   "id": "b5857091-0fab-49d9-b543-1e32e4b20a32",
   "metadata": {},
   "source": [
    "### multiple comment\n",
    "- using triple-quoted strings like (''') or (\"\"\")\n",
    "- if not assigned to avariable or as a docstring, the string will be neglected by python\n",
    "- pythoy regards it as docstring,if this immediately follows:\n",
    "  - a 'def' or 'class' statement\n",
    "  - the top of '.py' module file"
   ]
  },
  {
   "cell_type": "code",
   "execution_count": 8,
   "id": "b0f3c718-b660-45f8-915b-d3221a6accbd",
   "metadata": {},
   "outputs": [
    {
     "name": "stdout",
     "output_type": "stream",
     "text": [
      "\n",
      "this is a multiple-linecomment using \"\"\"\n",
      "this not ignored due to a link to a variable\n",
      "often used as a chunk comment\n",
      "\n",
      "\n",
      "    this is docstring for documentation\n",
      "    the advantages of using docstrings:\n",
      "    - enable tools like help(), IDE tooltips, and Sphinx documentation\n",
      "    - easy to understand and maintain\n",
      "    - identified by python as the __doc__ attribute\n",
      "    \n",
      "    returns the sum of a and b\n",
      "\n",
      "    Parameters = arguments:\n",
      "    a (int): first number\n",
      "    b (int): second number\n",
      "\n",
      "    Returns:\n",
      "    int: sum of a and b\n",
      "    \n",
      "    \n",
      "Help on function add in module __main__:\n",
      "\n",
      "add(a, b)\n",
      "    this is docstring for documentation\n",
      "    the advantages of using docstrings:\n",
      "    - enable tools like help(), IDE tooltips, and Sphinx documentation\n",
      "    - easy to understand and maintain\n",
      "    - identified by python as the __doc__ attribute\n",
      "\n",
      "    returns the sum of a and b\n",
      "\n",
      "    Parameters = arguments:\n",
      "    a (int): first number\n",
      "    b (int): second number\n",
      "\n",
      "    Returns:\n",
      "    int: sum of a and b\n",
      "\n"
     ]
    }
   ],
   "source": [
    "'''\n",
    "this is a multiple-linecomment using \\'''\n",
    "this is ignored due to not assigned to a variable\n",
    "often used as a chunk comment\n",
    "'''\n",
    "\n",
    "multip_line_comments = \"\"\"\n",
    "this is a multiple-linecomment using \\\"\"\"\n",
    "this not ignored due to a link to a variable\n",
    "often used as a chunk comment\n",
    "\"\"\"\n",
    "print(multip_line_comments)\n",
    "\n",
    "def add(a, b):\n",
    "    '''\n",
    "    this is docstring for documentation\n",
    "    the advantages of using docstrings:\n",
    "    - enable tools like help(), IDE tooltips, and Sphinx documentation\n",
    "    - easy to understand and maintain\n",
    "    - identified by python as the __doc__ attribute\n",
    "    \n",
    "    returns the sum of a and b\n",
    "\n",
    "    Parameters = arguments:\n",
    "    a (int): first number\n",
    "    b (int): second number\n",
    "\n",
    "    Returns:\n",
    "    int: sum of a and b\n",
    "    \n",
    "    '''\n",
    "    return a + b\n",
    "    \n",
    "# print the comment of the function    \n",
    "print(add.__doc__)\n",
    "\n",
    "# orint the full docstring\n",
    "help(add)"
   ]
  },
  {
   "cell_type": "code",
   "execution_count": null,
   "id": "2f871163-943d-40cb-87e5-b9759f63744f",
   "metadata": {},
   "outputs": [],
   "source": []
  },
  {
   "cell_type": "code",
   "execution_count": null,
   "id": "56340582-1017-4eca-94d3-ebc247ab63be",
   "metadata": {},
   "outputs": [],
   "source": []
  },
  {
   "cell_type": "code",
   "execution_count": null,
   "id": "a4beffd2-06aa-4780-ab80-e05acc72b352",
   "metadata": {},
   "outputs": [],
   "source": []
  }
 ],
 "metadata": {
  "kernelspec": {
   "display_name": "Python 3 (ipykernel)",
   "language": "python",
   "name": "python3"
  },
  "language_info": {
   "codemirror_mode": {
    "name": "ipython",
    "version": 3
   },
   "file_extension": ".py",
   "mimetype": "text/x-python",
   "name": "python",
   "nbconvert_exporter": "python",
   "pygments_lexer": "ipython3",
   "version": "3.12.4"
  }
 },
 "nbformat": 4,
 "nbformat_minor": 5
}
