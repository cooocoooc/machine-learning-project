{
 "cells": [
  {
   "cell_type": "markdown",
   "metadata": {},
   "source": [
    "plot "
   ]
  },
  {
   "cell_type": "code",
   "execution_count": 1,
   "metadata": {
    "scrolled": false
   },
   "outputs": [
    {
     "data": {
      "image/png": "[encoded data removed]",
      "text/plain": [
       "<Figure size 432x288 with 1 Axes>"
      ]
     },
     "metadata": {
      "needs_background": "light"
     },
     "output_type": "display_data"
    }
   ],
   "source": [
    "import matplotlib.pyplot as plt\n",
    "import numpy as np\n",
    "\n",
    "xpoints = np.array([1, 8]) \n",
    "ypoints = np.array([1, 2])\n",
    "plt.plot(xpoints, ypoints)\n",
    "\n",
    "# without line\n",
    "plt.plot(ypoints, 'o')\n",
    "\n",
    "# without x-points\n",
    "ypoints = np.array([2, 3])\n",
    "plt.plot(ypoints)\n",
    "\n",
    "# marker\n",
    "'''\n",
    "ms = marker size\n",
    "mec = markeredgecolor \n",
    "mfc = markerfacecolor\n",
    "'''\n",
    "ypoints = np.array([3, 4])\n",
    "plt.plot(ypoints, marker = '*', ms = 20, mec = 'hotpink', mfc = '#4caf50' )\n",
    "\n",
    "# linestyle\n",
    "'''\n",
    "{linestyle = 'solid'} = {linestyle = '-'} = '-'\n",
    "{linestyle = 'dotted'} = {linestyle = ':'} = ':'\n",
    "{linestyle = 'dashed'} = {linestyle = '--'} = '--'\n",
    "{linestyle = '-.'} = '-.'\n",
    "line+marker = 'o-.'\n",
    "'''\n",
    "ypoints = np.array([4, 5])\n",
    "plt.plot(ypoints, linestyle = 'dotted') # dashed\n",
    "\n",
    "# color\n",
    "ypoints = np.array([5, 6])\n",
    "plt.plot(ypoints, color = 'r')\n",
    "\n",
    "# linewidth\n",
    "ypoints = np.array([6, 7])\n",
    "plt.plot(ypoints, linewidth = '6')\n",
    "\n",
    "# multiple lines\n",
    "ypoints_1 = np.array([2, 1])\n",
    "xpoints_1 = np.array([8, 9])\n",
    "xpoints = np.array([8,9])\n",
    "ypoints = np.array([1, 2])\n",
    "plt.plot(xpoints, ypoints, xpoints_1, ypoints_1)\n",
    "\n",
    "# font properties for title and label\n",
    "font_label = {'family':'serif', 'color':'blue', 'size':15}\n",
    "font_title = {'family':'serif', 'color':'r', 'size':20}\n",
    "\n",
    "# label\n",
    "plt.xlabel('x_points', font_label, loc = 'left')\n",
    "plt.ylabel('y_points', fontdict = font_label, loc = 'top')\n",
    "\n",
    "# title\n",
    "plt.title('plot display', font_title, loc = 'left')\n",
    "\n",
    "'''\n",
    "loc = location\n",
    "title = xlabel = {left, right, center}\n",
    "ylabel = {top, down, center}\n",
    "'''\n",
    "\n",
    "# grid lines\n",
    "'''\n",
    "axis = {'x', 'y', 'both'}\n",
    "default = both\n",
    "'''\n",
    "plt.grid(axis = 'x', color = 'hotpink', linestyle = '--', linewidth = 0.5)\n",
    "plt.show()"
   ]
  },
  {
   "cell_type": "code",
   "execution_count": null,
   "metadata": {},
   "outputs": [],
   "source": []
  }
 ],
 "metadata": {
  "kernelspec": {
   "display_name": "Python 3",
   "language": "python",
   "name": "python3"
  },
  "language_info": {
   "codemirror_mode": {
    "name": "ipython",
    "version": 3
   },
   "file_extension": ".py",
   "mimetype": "text/x-python",
   "name": "python",
   "nbconvert_exporter": "python",
   "pygments_lexer": "ipython3",
   "version": "3.11.11"
  }
 },
 "nbformat": 4,
 "nbformat_minor": 4
}
