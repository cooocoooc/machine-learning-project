{
 "cells": [
  {
   "cell_type": "markdown",
   "id": "b66f83c6-ed54-4795-a738-e9285a08a4a5",
   "metadata": {},
   "source": [
    "file operation functions"
   ]
  },
  {
   "cell_type": "code",
   "execution_count": null,
   "id": "0276c3cf-5a21-432e-b43d-48e6f1f2e302",
   "metadata": {},
   "outputs": [],
   "source": []
  }
 ],
 "metadata": {
  "kernelspec": {
   "display_name": "Python 3 (ipykernel)",
   "language": "python",
   "name": "python3"
  },
  "language_info": {
   "codemirror_mode": {
    "name": "ipython",
    "version": 3
   },
   "file_extension": ".py",
   "mimetype": "text/x-python",
   "name": "python",
   "nbconvert_exporter": "python",
   "pygments_lexer": "ipython3",
   "version": "3.12.4"
  }
 },
 "nbformat": 4,
 "nbformat_minor": 5
}
